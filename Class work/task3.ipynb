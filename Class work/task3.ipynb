{
 "cells": [
  {
   "cell_type": "code",
   "execution_count": 6,
   "metadata": {},
   "outputs": [
    {
     "name": "stdout",
     "output_type": "stream",
     "text": [
      "Factorial of 5 is: 120\n"
     ]
    }
   ],
   "source": [
    "# find fac with para\n",
    "\n",
    "def fac(num): \n",
    "    factorial = 1\n",
    "    for i in range(1,num + 1):    \n",
    "        factorial = factorial*i\n",
    "    print(f\"Factorial of {num} is: {factorial}\")\n",
    "\n",
    "num = int(input(\"Enter a number to find out the factorial : \"))  \n",
    "fac(num)\n"
   ]
  },
  {
   "cell_type": "code",
   "execution_count": 8,
   "metadata": {},
   "outputs": [
    {
     "name": "stdout",
     "output_type": "stream",
     "text": [
      "4 is an even number\n"
     ]
    }
   ],
   "source": [
    "# odd or even\n",
    "\n",
    "def oddeven(j):\n",
    "    if j % 2 == 0:\n",
    "        print(f\"{j} is an even number\")\n",
    "    else:\n",
    "        print(f\"{j} is an odd number\")\n",
    "\n",
    "j = int(input(\"Enter the number to check whther number is odd or even\"))\n",
    "oddeven(j)"
   ]
  },
  {
   "cell_type": "code",
   "execution_count": null,
   "metadata": {},
   "outputs": [],
   "source": []
  }
 ],
 "metadata": {
  "interpreter": {
   "hash": "df667f885b32d85fe0ec4dba32479b46b75d7489a1229482fc72753e0a81fc69"
  },
  "kernelspec": {
   "display_name": "Python 3.9.6 64-bit",
   "language": "python",
   "name": "python3"
  },
  "language_info": {
   "codemirror_mode": {
    "name": "ipython",
    "version": 3
   },
   "file_extension": ".py",
   "mimetype": "text/x-python",
   "name": "python",
   "nbconvert_exporter": "python",
   "pygments_lexer": "ipython3",
   "version": "3.9.6"
  },
  "orig_nbformat": 4
 },
 "nbformat": 4,
 "nbformat_minor": 2
}
