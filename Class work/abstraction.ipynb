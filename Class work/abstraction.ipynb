{
 "cells": [
  {
   "cell_type": "markdown",
   "metadata": {},
   "source": [
    ">Abstraction\n",
    "\n",
    "which is represent only few information not allocated background information its called abstraction\n",
    "\n",
    "abstraction is a concept which is only achieve by abstract class\n",
    "\n",
    ">abstract class  \n",
    "\n",
    "which is contain only abstract methods\n",
    "\n",
    ">abstract methods \n",
    "\n",
    "which is contain only method declaration not method defination"
   ]
  },
  {
   "cell_type": "code",
   "execution_count": 2,
   "metadata": {},
   "outputs": [
    {
     "name": "stdout",
     "output_type": "stream",
     "text": [
      "Sbi\n",
      "8.7\n"
     ]
    }
   ],
   "source": [
    "from abc import ABC,abstractclassmethod #ABC: Abstract Base Class\n",
    "\n",
    "class RBI(ABC):\n",
    "    @abstractclassmethod\n",
    "    def roi(self):\n",
    "        pass\n",
    "\n",
    "class SBI(RBI):\n",
    "    def display(self):\n",
    "        print(\"Sbi\")\n",
    "\n",
    "    def roi(self):\n",
    "        print(\"8.7\")\n",
    "\n",
    "s = SBI()\n",
    "s.display()\n",
    "s.roi()"
   ]
  }
 ],
 "metadata": {
  "kernelspec": {
   "display_name": "Python 3.9.6 64-bit",
   "language": "python",
   "name": "python3"
  },
  "language_info": {
   "codemirror_mode": {
    "name": "ipython",
    "version": 3
   },
   "file_extension": ".py",
   "mimetype": "text/x-python",
   "name": "python",
   "nbconvert_exporter": "python",
   "pygments_lexer": "ipython3",
   "version": "3.9.6"
  },
  "orig_nbformat": 4,
  "vscode": {
   "interpreter": {
    "hash": "df667f885b32d85fe0ec4dba32479b46b75d7489a1229482fc72753e0a81fc69"
   }
  }
 },
 "nbformat": 4,
 "nbformat_minor": 2
}
