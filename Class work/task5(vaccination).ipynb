{
 "cells": [
  {
   "cell_type": "code",
   "execution_count": 2,
   "metadata": {},
   "outputs": [
    {
     "ename": "SyntaxError",
     "evalue": "invalid syntax (1177219119.py, line 14)",
     "output_type": "error",
     "traceback": [
      "\u001b[1;36m  Input \u001b[1;32mIn [2]\u001b[1;36m\u001b[0m\n\u001b[1;33m    file.write(date_now\"\\n\")\u001b[0m\n\u001b[1;37m                       ^\u001b[0m\n\u001b[1;31mSyntaxError\u001b[0m\u001b[1;31m:\u001b[0m invalid syntax\n"
     ]
    }
   ],
   "source": [
    "import datetime\n",
    "date = datetime.datetime.now()\n",
    "vacc_date = str(date.date())\n",
    "file = open(vacc_date,\"a\")\n",
    "while True:\n",
    "    name = input(\"Enter the name : \")\n",
    "    gender = input(\"Enter the gender : \")\n",
    "    age = input(\"Enter the age : \")\n",
    "    cont = input(\"Enter the contact number : \")\n",
    "    vacc_name = input(\"Enter the vaccination name : \")\n",
    "    doze = input(\"Enter the doze number : \")\n",
    "    date_now = str(date)\n",
    "    file.write(\"---------------------vaccination centre----------------------\")\n",
    "    file.write(date_now) \n",
    "    file.write(f\"Name : {name}\\n\")\n",
    "    file.write(f\"Gender : {gender} \\n\")\n",
    "    file.write(f\"Age : {age} \\n\")\n",
    "    file.write(f\"Contact Number : {cont} \\n\")\n",
    "    file.write(f\"Vaccination Name : {vacc_name} \\n\")\n",
    "    file.write(f\"Vaccination Doze : {doze} \\n\")\n",
    "    file.write(\"--------------------------------------------------------------\")\n",
    "\n",
    "    choice = input(\"do you want to add more ? if y for yes and n for no\")\n",
    "\n",
    "    if choice == 'y':\n",
    "        continue\n",
    "    elif choice == 'n':\n",
    "        print(\"File saved\")\n",
    "        file.close()\n",
    "        break"
   ]
  }
 ],
 "metadata": {
  "interpreter": {
   "hash": "df667f885b32d85fe0ec4dba32479b46b75d7489a1229482fc72753e0a81fc69"
  },
  "kernelspec": {
   "display_name": "Python 3.9.6 64-bit",
   "language": "python",
   "name": "python3"
  },
  "language_info": {
   "codemirror_mode": {
    "name": "ipython",
    "version": 3
   },
   "file_extension": ".py",
   "mimetype": "text/x-python",
   "name": "python",
   "nbconvert_exporter": "python",
   "pygments_lexer": "ipython3",
   "version": "3.9.6"
  },
  "orig_nbformat": 4
 },
 "nbformat": 4,
 "nbformat_minor": 2
}
