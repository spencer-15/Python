{
 "cells": [
  {
   "cell_type": "markdown",
   "metadata": {},
   "source": [
    ">Inheritance:\n",
    "\n",
    "inheritance is a concept which is used to provide reusability\n",
    "\n",
    "using of inheritance we can reduce our code\n",
    "\n",
    "there are 5 types of inheritance\n",
    "1) Single level\n",
    "2) Mutli level\n",
    "3) Mutliple inheritance\n",
    "4) Hierarchical\n",
    "5) Hybrid "
   ]
  },
  {
   "cell_type": "markdown",
   "metadata": {},
   "source": [
    ">Single level\n",
    "\n",
    "Class A\n",
    "    |\n",
    "    V\n",
    "Class B"
   ]
  },
  {
   "cell_type": "code",
   "execution_count": 2,
   "metadata": {},
   "outputs": [
    {
     "name": "stdout",
     "output_type": "stream",
     "text": [
      "Hello class A is here\n",
      "Hello class B is here\n"
     ]
    }
   ],
   "source": [
    "class A:\n",
    "    def displayA(self):\n",
    "        print(\"Hello class A is here\")\n",
    "\n",
    "class B(A):\n",
    "    def displayB(self):\n",
    "        print(\"Hello class B is here\")\n",
    "\n",
    "obj = B()\n",
    "obj.displayA()\n",
    "obj.displayB()"
   ]
  },
  {
   "cell_type": "code",
   "execution_count": 3,
   "metadata": {},
   "outputs": [
    {
     "name": "stdout",
     "output_type": "stream",
     "text": [
      "num1 =  23\n",
      "num2 =  2\n",
      "ans =  25\n"
     ]
    }
   ],
   "source": [
    "class A:\n",
    "    def inputA(self):\n",
    "        self.num1 = int(input(\"Enter number 1: \"))\n",
    "        self.num2 = int(input(\"Enter number 2: \"))\n",
    "\n",
    "class B(A):\n",
    "    def displayB(self):\n",
    "        print(\"num1 = \",self.num1)\n",
    "        print(\"num2 = \",self.num2)\n",
    "\n",
    "    def ans(self):\n",
    "        result = self.num1 + self.num2\n",
    "        print(\"ans = \",result)\n",
    "\n",
    "\n",
    "obj = B()\n",
    "obj.inputA()\n",
    "obj.displayB()\n",
    "obj.ans()"
   ]
  },
  {
   "cell_type": "markdown",
   "metadata": {},
   "source": [
    ">Multi level\n",
    " \n",
    "class A (base)\n",
    "   |\n",
    "   V\n",
    "class B (Intermediate)\n",
    "   |\n",
    "   V\n",
    "class c (derived) "
   ]
  },
  {
   "cell_type": "code",
   "execution_count": 1,
   "metadata": {},
   "outputs": [
    {
     "name": "stdout",
     "output_type": "stream",
     "text": [
      "Class A is here\n",
      "Class B is here\n",
      "Class C is here\n"
     ]
    }
   ],
   "source": [
    "class A:\n",
    "    def displayA(self):\n",
    "        print(\"Class A is here\")\n",
    "\n",
    "class B(A):\n",
    "    def displayB(self):\n",
    "        print(\"Class B is here\")\n",
    "\n",
    "class C(B):\n",
    "    def displayC(self):\n",
    "        print(\"Class C is here\")\n",
    "\n",
    "obj = C()\n",
    "obj.displayA()\n",
    "obj.displayB()\n",
    "obj.displayC()"
   ]
  },
  {
   "cell_type": "code",
   "execution_count": 2,
   "metadata": {},
   "outputs": [
    {
     "name": "stdout",
     "output_type": "stream",
     "text": [
      "SBI is here\n",
      "RBI is here\n",
      "BOB is here\n"
     ]
    }
   ],
   "source": [
    "#Multiple\n",
    "\n",
    "class RBI:\n",
    "    def display(self):\n",
    "        print(\"RBI is here\")\n",
    "\n",
    "class SBI(RBI):\n",
    "    def displaySBI(self):\n",
    "        print(\"SBI is here\")\n",
    "\n",
    "class BOB(RBI):\n",
    "    def displayBOB(self):\n",
    "        print(\"BOB is here\")\n",
    "\n",
    "sbi = SBI()\n",
    "sbi.display\n",
    "sbi.displaySBI()\n",
    "\n",
    "bob = BOB()\n",
    "bob.display()\n",
    "bob.displayBOB()"
   ]
  },
  {
   "cell_type": "code",
   "execution_count": 1,
   "metadata": {},
   "outputs": [
    {
     "name": "stdout",
     "output_type": "stream",
     "text": [
      "Class A is here\n",
      "Class B is here\n",
      "Class C is here\n"
     ]
    }
   ],
   "source": [
    "#Hierarchical\n",
    "\n",
    "class A:\n",
    "    def displayA(self):\n",
    "        print(\"Class A is here\")\n",
    "\n",
    "class B:\n",
    "    def displayB(self):\n",
    "        print(\"Class B is here\")\n",
    "\n",
    "class C(A,B):\n",
    "    def displayC(self):\n",
    "        print(\"Class C is here\")\n",
    "\n",
    "obj = C()\n",
    "obj.displayA()\n",
    "obj.displayB()\n",
    "obj.displayC()"
   ]
  },
  {
   "cell_type": "code",
   "execution_count": null,
   "metadata": {},
   "outputs": [],
   "source": [
    "#Hybrid\n",
    "\n"
   ]
  }
 ],
 "metadata": {
  "kernelspec": {
   "display_name": "Python 3.10.5 64-bit",
   "language": "python",
   "name": "python3"
  },
  "language_info": {
   "codemirror_mode": {
    "name": "ipython",
    "version": 3
   },
   "file_extension": ".py",
   "mimetype": "text/x-python",
   "name": "python",
   "nbconvert_exporter": "python",
   "pygments_lexer": "ipython3",
   "version": "3.10.5"
  },
  "orig_nbformat": 4,
  "vscode": {
   "interpreter": {
    "hash": "e84f63db95fe4bce2a739250d3724d0823731002a7896047103cb28b9fc7cc34"
   }
  }
 },
 "nbformat": 4,
 "nbformat_minor": 2
}
