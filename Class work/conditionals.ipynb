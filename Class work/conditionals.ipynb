{
 "cells": [
  {
   "cell_type": "markdown",
   "metadata": {},
   "source": [
    "conditionals matlab... aagar magar valse statements....\n",
    "\n",
    "if condition:\n",
    "    do something...\n",
    "elif condition:\n",
    "    do something...\n",
    "elif condition_1:\n",
    "    do something...\n",
    "elif condition_2:\n",
    "    do something...\n",
    "elif condition_3:\n",
    "    do something...\n",
    "else:\n",
    "    kuch bhi kr le abhi bhai tu...."
   ]
  },
  {
   "cell_type": "code",
   "execution_count": 3,
   "metadata": {},
   "outputs": [],
   "source": [
    "# name = input(\"Please enter your name : \")\n",
    "age = input(\"Please enter your age : \")"
   ]
  },
  {
   "cell_type": "code",
   "execution_count": 1,
   "metadata": {},
   "outputs": [
    {
     "ename": "NameError",
     "evalue": "name 'age' is not defined",
     "output_type": "error",
     "traceback": [
      "\u001b[1;31m---------------------------------------------------------------------------\u001b[0m",
      "\u001b[1;31mNameError\u001b[0m                                 Traceback (most recent call last)",
      "\u001b[1;32mc:\\Users\\vakha.DESKTOP-J8RAJ1K\\OneDrive\\Desktop\\Python\\conditionals.ipynb Cell 3\u001b[0m in \u001b[0;36m<cell line: 1>\u001b[1;34m()\u001b[0m\n\u001b[1;32m----> <a href='vscode-notebook-cell:/c%3A/Users/vakha.DESKTOP-J8RAJ1K/OneDrive/Desktop/Python/conditionals.ipynb#ch0000002?line=0'>1</a>\u001b[0m \u001b[39mif\u001b[39;00m \u001b[39mint\u001b[39m(age) \u001b[39m<\u001b[39m \u001b[39m2\u001b[39m:\n\u001b[0;32m      <a href='vscode-notebook-cell:/c%3A/Users/vakha.DESKTOP-J8RAJ1K/OneDrive/Desktop/Python/conditionals.ipynb#ch0000002?line=1'>2</a>\u001b[0m     \u001b[39mprint\u001b[39m(\u001b[39m\"\u001b[39m\u001b[39mBbhai aapke charan kidhar hai...?\u001b[39m\u001b[39m\"\u001b[39m)\n\u001b[0;32m      <a href='vscode-notebook-cell:/c%3A/Users/vakha.DESKTOP-J8RAJ1K/OneDrive/Desktop/Python/conditionals.ipynb#ch0000002?line=2'>3</a>\u001b[0m \u001b[39melif\u001b[39;00m \u001b[39mint\u001b[39m(age) \u001b[39m>\u001b[39m \u001b[39m18\u001b[39m:\n",
      "\u001b[1;31mNameError\u001b[0m: name 'age' is not defined"
     ]
    }
   ],
   "source": [
    "if int(age) < 2:\n",
    "    print(\"Bbhai aapke charan kidhar hai...?\")\n",
    "elif int(age) > 18:\n",
    "    print(\"Abb ki baar modi sarkar... Modi ne j vote de j lya....\")\n",
    "else:\n",
    "    print(\"Papa Mummy ko bolna modi ko vote de bhai...\")\n"
   ]
  },
  {
   "cell_type": "code",
   "execution_count": 1,
   "metadata": {},
   "outputs": [
    {
     "ename": "NameError",
     "evalue": "name 'age' is not defined",
     "output_type": "error",
     "traceback": [
      "\u001b[1;31m---------------------------------------------------------------------------\u001b[0m",
      "\u001b[1;31mNameError\u001b[0m                                 Traceback (most recent call last)",
      "\u001b[1;32mc:\\Users\\vakha.DESKTOP-J8RAJ1K\\OneDrive\\Desktop\\Python\\conditionals.ipynb Cell 4'\u001b[0m in \u001b[0;36m<cell line: 1>\u001b[1;34m()\u001b[0m\n\u001b[1;32m----> <a href='vscode-notebook-cell:/c%3A/Users/vakha.DESKTOP-J8RAJ1K/OneDrive/Desktop/Python/conditionals.ipynb#ch0000003?line=0'>1</a>\u001b[0m \u001b[39mif\u001b[39;00m \u001b[39mint\u001b[39m(age) \u001b[39m>\u001b[39m \u001b[39m18\u001b[39m:\n\u001b[0;32m      <a href='vscode-notebook-cell:/c%3A/Users/vakha.DESKTOP-J8RAJ1K/OneDrive/Desktop/Python/conditionals.ipynb#ch0000003?line=1'>2</a>\u001b[0m     \u001b[39mprint\u001b[39m(\u001b[39m\"\u001b[39m\u001b[39mAbb ki baar modi sarkar... Modi ne j vote de j lya....\u001b[39m\u001b[39m\"\u001b[39m)\n",
      "\u001b[1;31mNameError\u001b[0m: name 'age' is not defined"
     ]
    }
   ],
   "source": [
    "if int(age) > 18:\n",
    "    print(\"Abb ki baar modi sarkar... Modi ne j vote de j lya....\")"
   ]
  },
  {
   "cell_type": "code",
   "execution_count": null,
   "metadata": {},
   "outputs": [],
   "source": []
  },
  {
   "cell_type": "code",
   "execution_count": null,
   "metadata": {},
   "outputs": [],
   "source": []
  }
 ],
 "metadata": {
  "kernelspec": {
   "display_name": "Python 3.10.5 64-bit",
   "language": "python",
   "name": "python3"
  },
  "language_info": {
   "codemirror_mode": {
    "name": "ipython",
    "version": 3
   },
   "file_extension": ".py",
   "mimetype": "text/x-python",
   "name": "python",
   "nbconvert_exporter": "python",
   "pygments_lexer": "ipython3",
   "version": "3.10.5"
  },
  "orig_nbformat": 4,
  "vscode": {
   "interpreter": {
    "hash": "369f2c481f4da34e4445cda3fffd2e751bd1c4d706f27375911949ba6bb62e1c"
   }
  }
 },
 "nbformat": 4,
 "nbformat_minor": 2
}
