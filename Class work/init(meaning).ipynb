{
 "cells": [
  {
   "cell_type": "markdown",
   "metadata": {},
   "source": [
    "#__init__.py = blank file which is used to generate package\n",
    "\n",
    "#__init__() = mehtod which is work as constructor in oops concept which is called automatically once object of class create"
   ]
  },
  {
   "cell_type": "code",
   "execution_count": 4,
   "metadata": {},
   "outputs": [
    {
     "name": "stdout",
     "output_type": "stream",
     "text": [
      "Vehicle Class\n",
      "Brand :  honda\n",
      "Number :  23\n",
      "Vehicle Class\n",
      "Brand :  bmw\n",
      "Number :  43\n"
     ]
    }
   ],
   "source": [
    "class Vehicle:\n",
    "    def __init__(self,vehicle_type):\n",
    "        print(\"Vehicle Class\")\n",
    "        self.vehicle_type = vehicle_type\n",
    "    \n",
    "    def inputDetails(self):\n",
    "        if self.vehicle_type == \"car\":\n",
    "            self.brand = input(\"Enter the brand name :\")\n",
    "            self.numb = int(input(\"Enter the number :\"))\n",
    "\n",
    "        elif self.vehicle_type == \"bike\":\n",
    "            self.brand = input(\"Enter the brand name :\")\n",
    "            self.numb = int(input(\"Enter the number :\"))\n",
    "        \n",
    "        else:\n",
    "            print(\"Invalid\")\n",
    "    \n",
    "    def display(self):\n",
    "        print(\"Brand : \",self.brand)\n",
    "        print(\"Number : \",self.numb)\n",
    "\n",
    "car = Vehicle(\"car\")\n",
    "car.inputDetails()\n",
    "car.display()\n",
    "\n",
    "bike = Vehicle(\"bike\")\n",
    "bike.inputDetails()\n",
    "bike.display()"
   ]
  }
 ],
 "metadata": {
  "kernelspec": {
   "display_name": "Python 3.9.6 64-bit",
   "language": "python",
   "name": "python3"
  },
  "language_info": {
   "codemirror_mode": {
    "name": "ipython",
    "version": 3
   },
   "file_extension": ".py",
   "mimetype": "text/x-python",
   "name": "python",
   "nbconvert_exporter": "python",
   "pygments_lexer": "ipython3",
   "version": "3.9.6"
  },
  "orig_nbformat": 4,
  "vscode": {
   "interpreter": {
    "hash": "df667f885b32d85fe0ec4dba32479b46b75d7489a1229482fc72753e0a81fc69"
   }
  }
 },
 "nbformat": 4,
 "nbformat_minor": 2
}
