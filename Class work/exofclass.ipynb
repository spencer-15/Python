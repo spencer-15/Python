{
 "cells": [
  {
   "cell_type": "code",
   "execution_count": 5,
   "metadata": {},
   "outputs": [
    {
     "name": "stdout",
     "output_type": "stream",
     "text": [
      "Welcome\n",
      "Firstname =  Deep\n",
      "lastname =  Vakharia\n",
      "Subject =  Python\n",
      "Marks =  89\n",
      "Welcome\n",
      "Firstname = Rahul lastname = Patel Department = Python\n"
     ]
    }
   ],
   "source": [
    "class Student:\n",
    "    def __init__(self):\n",
    "        print(\"Welcome\")\n",
    "    \n",
    "    def inputDetails(self,fname,lname,subject,marks):\n",
    "        self.firstname = fname\n",
    "        self.lastname = lname\n",
    "        self.subject = subject \n",
    "        self.marks = marks\n",
    "    \n",
    "    def displayDetails(self):\n",
    "        print(\"Firstname = \",self.firstname)\n",
    "        print(\"lastname = \",self.lastname)\n",
    "        print(\"Subject = \",self.subject)\n",
    "        print(\"Marks = \",self.marks)\n",
    "\n",
    "class Faculty:\n",
    "    def __init__(self) -> None:\n",
    "        print(\"Welcome\")\n",
    "    \n",
    "    def inputDetails(self,fname,lname,depart):\n",
    "        self.firstname = fname\n",
    "        self.lastname = lname\n",
    "        self.depart = depart\n",
    "    \n",
    "    def displayDetails(self) -> str:\n",
    "        return \"Firstname = \"+self.firstname+ \" lastname = \"+self.lastname+\" Department = \"+self.depart\n",
    "\n",
    "s = Student()\n",
    "s.inputDetails(\"Deep\",\"Vakharia\",\"Python\",89)\n",
    "s.displayDetails()\n",
    "\n",
    "f = Faculty()\n",
    "f.inputDetails(\"Rahul\",\"Patel\",\"Python\")\n",
    "print(f.displayDetails())"
   ]
  }
 ],
 "metadata": {
  "kernelspec": {
   "display_name": "Python 3.10.5 64-bit",
   "language": "python",
   "name": "python3"
  },
  "language_info": {
   "codemirror_mode": {
    "name": "ipython",
    "version": 3
   },
   "file_extension": ".py",
   "mimetype": "text/x-python",
   "name": "python",
   "nbconvert_exporter": "python",
   "pygments_lexer": "ipython3",
   "version": "3.10.5"
  },
  "orig_nbformat": 4,
  "vscode": {
   "interpreter": {
    "hash": "e84f63db95fe4bce2a739250d3724d0823731002a7896047103cb28b9fc7cc34"
   }
  }
 },
 "nbformat": 4,
 "nbformat_minor": 2
}
