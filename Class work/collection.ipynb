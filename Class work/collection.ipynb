{
 "cells": [
  {
   "cell_type": "markdown",
   "metadata": {},
   "source": [
    "Collection : there are 4 types of coolection\n",
    "\n",
    "1) list : list is a collection data type which is contain simillar and dis simillar data elemnets"
   ]
  },
  {
   "cell_type": "code",
   "execution_count": null,
   "metadata": {},
   "outputs": [],
   "source": [
    "l1 =[12,23,4,5]\n",
    "\n",
    "print(l1)\n",
    "\n",
    "for i in l1:\n",
    "    print(i,end=\" \")\n",
    "\n",
    "print(\"\\nsum = \",sum(l1))\n",
    "print(\"max = \",max(l1))\n",
    "print(\"min = \",min(l1))\n",
    "\n",
    "l1.reverse()\n",
    "l1.sort()\n",
    "print(l1)\n",
    "l1.sort(reverse=True)\n",
    "print(l1)"
   ]
  },
  {
   "cell_type": "markdown",
   "metadata": {},
   "source": [
    "Add data in existing using of 3 methids\n",
    "\n",
    "1) append() :if we want to add elements in existing list\n",
    "2) extend() :add more than one element at one time\n",
    "3) insert() :add elements in list with specific postion or index"
   ]
  },
  {
   "cell_type": "code",
   "execution_count": null,
   "metadata": {},
   "outputs": [],
   "source": [
    "#append\n",
    "\n",
    "shopping_list =[]\n",
    "\n",
    "status = True\n",
    "while status:\n",
    "    product_item = input(\"Enter the product name :\")\n",
    "    shopping_list.append(product_item)\n",
    "    choice= input(\"Do you want to add mor product : press y for yes and n for no\").upper()\n",
    "    if choice == 'N' or choice == \"NO\":\n",
    "        status = False\n",
    "    else:\n",
    "        status = True\n",
    "\n",
    "print(shopping_list)"
   ]
  },
  {
   "cell_type": "code",
   "execution_count": null,
   "metadata": {},
   "outputs": [],
   "source": [
    "#extend\n",
    "\n",
    "subject_list = [\"python\", \"java\", \"php\"]\n",
    "subject_list1 = [101, 102 , 103]\n",
    "marks = [22, 33, 44]\n",
    "subject_list1.extend([marks, subject_list])\n",
    "print(subject_list1)"
   ]
  },
  {
   "cell_type": "code",
   "execution_count": null,
   "metadata": {},
   "outputs": [],
   "source": [
    "#insert\n",
    "\n",
    "marks = [23,45,68,2]\n",
    "marks.insert(2,100)\n",
    "print(marks)"
   ]
  },
  {
   "cell_type": "markdown",
   "metadata": {},
   "source": [
    "1) remove : to remove element from the list\n",
    "2) pop : it will remove last element from the list or specific index\n",
    "3) clear : it will remove all elements from the list\n",
    "4) del : it will completely delete list from the memory"
   ]
  },
  {
   "cell_type": "code",
   "execution_count": null,
   "metadata": {},
   "outputs": [],
   "source": [
    "l3 = [12,23,46,78]\n",
    "\n",
    "l3.remove(23)\n",
    "print(l3)\n",
    "\n",
    "l3.pop()\n",
    "print(l3)"
   ]
  },
  {
   "cell_type": "markdown",
   "metadata": {},
   "source": [
    "Tuple : tuple is a collection data type which is represent by ()\n",
    "\n",
    "tuple is immutable (we can't change it value)"
   ]
  },
  {
   "cell_type": "code",
   "execution_count": 1,
   "metadata": {},
   "outputs": [
    {
     "name": "stdout",
     "output_type": "stream",
     "text": [
      "()\n"
     ]
    }
   ],
   "source": [
    "t = ()\n",
    "print(t)"
   ]
  },
  {
   "cell_type": "code",
   "execution_count": 2,
   "metadata": {},
   "outputs": [
    {
     "name": "stdout",
     "output_type": "stream",
     "text": [
      "('a', 'b', 'c')\n",
      "<class 'tuple'>\n"
     ]
    }
   ],
   "source": [
    "t = (\"a\",\"b\",\"c\")\n",
    "print(t)"
   ]
  },
  {
   "cell_type": "code",
   "execution_count": 4,
   "metadata": {},
   "outputs": [
    {
     "name": "stdout",
     "output_type": "stream",
     "text": [
      "<class 'tuple'>\n"
     ]
    }
   ],
   "source": [
    "t = (1,)\n",
    "print(type(t))"
   ]
  },
  {
   "cell_type": "markdown",
   "metadata": {},
   "source": [
    "Set: set  is a collection data type which is contain similiar and dis-similar data elements at single entity\n",
    "\n",
    "it can contain only unique values (it will remove duplicate elements from the set )\n",
    "\n",
    "set is unorderable , unindex and immutable"
   ]
  },
  {
   "cell_type": "code",
   "execution_count": 2,
   "metadata": {},
   "outputs": [
    {
     "name": "stdout",
     "output_type": "stream",
     "text": [
      "{67, 12, 45, 55}\n"
     ]
    }
   ],
   "source": [
    "s = {12,45,55,67}\n",
    "print(s)"
   ]
  },
  {
   "cell_type": "code",
   "execution_count": 6,
   "metadata": {},
   "outputs": [
    {
     "name": "stdout",
     "output_type": "stream",
     "text": [
      "['a', 'b', 'c', 'a', 'd', 'e', 'b']\n",
      "{'d', 'c', 'e', 'a', 'b'}\n",
      "['d', 'c', 'e', 'a', 'b']\n"
     ]
    }
   ],
   "source": [
    "l1 = [\"a\",\"b\",\"c\",\"a\",\"d\",\"e\",\"b\"]\n",
    "\n",
    "print(l1)\n",
    "\n",
    "s1 = set(l1)\n",
    "print(s1)\n",
    "l1 = list(s1)\n",
    "print(l1)"
   ]
  },
  {
   "cell_type": "markdown",
   "metadata": {},
   "source": [
    "Dictionary is a collection data type\n",
    "\n",
    "which is contain key and values in pair\n",
    "\n",
    "dictionary which is represent by {}"
   ]
  },
  {
   "cell_type": "code",
   "execution_count": 7,
   "metadata": {},
   "outputs": [
    {
     "name": "stdout",
     "output_type": "stream",
     "text": [
      "{'Name': 'Jay', 'Subject': 'Python', 'Marks': 89}\n",
      "Name : Jay\n",
      "Subject : Python\n",
      "Marks : 89\n",
      "Jay\n",
      "89\n",
      "Python\n"
     ]
    }
   ],
   "source": [
    "Student ={\n",
    "    \"Name\" : \"Jay\",\n",
    "    \"Subject\" : \"Python\",\n",
    "    \"Marks\" : 89,\n",
    "}\n",
    "print(Student)\n",
    "\n",
    "for k,v in Student.items():\n",
    "    print(f\"{k} : {v}\")"
   ]
  },
  {
   "cell_type": "code",
   "execution_count": 8,
   "metadata": {},
   "outputs": [
    {
     "name": "stdout",
     "output_type": "stream",
     "text": [
      "Jay\n",
      "89\n",
      "Python\n"
     ]
    }
   ],
   "source": [
    "print(Student[\"Name\"])\n",
    "print(Student[\"Marks\"])\n",
    "print(Student.get(\"Subject\"))"
   ]
  },
  {
   "cell_type": "code",
   "execution_count": 9,
   "metadata": {},
   "outputs": [
    {
     "name": "stdout",
     "output_type": "stream",
     "text": [
      "Name\n",
      "Subject\n",
      "Marks\n",
      "Jay\n",
      "Python\n",
      "89\n"
     ]
    }
   ],
   "source": [
    "for key in Student.keys():\n",
    "    print(key)\n",
    "\n",
    "for value in Student.values():\n",
    "    print(value)"
   ]
  },
  {
   "cell_type": "code",
   "execution_count": 10,
   "metadata": {},
   "outputs": [
    {
     "name": "stdout",
     "output_type": "stream",
     "text": [
      "1) which is popular language\n",
      "right answer\n",
      "2) prime minister of india\n",
      "right answer\n"
     ]
    }
   ],
   "source": [
    "Quiz ={\n",
    "    1 : {\n",
    "        \"que\" : \"1) which is popular language\",\n",
    "        \"ans\" : \"python\",\n",
    "    },\n",
    "    2 : {\n",
    "        \"que\" : \"2) prime minister of india\",\n",
    "        \"ans\" : \"narendra modi\",\n",
    "    },\n",
    "}\n",
    "\n",
    "for i in range(1,len(Quiz)+1):\n",
    "    print(Quiz[i][\"que\"])\n",
    "    ans = input(\"Enter your answer : \").lower()\n",
    "    if ans == Quiz[i][\"ans\"]:\n",
    "        print(\"right answer\")\n",
    "    else:\n",
    "        print(\"wrong answer\")"
   ]
  }
 ],
 "metadata": {
  "interpreter": {
   "hash": "df667f885b32d85fe0ec4dba32479b46b75d7489a1229482fc72753e0a81fc69"
  },
  "kernelspec": {
   "display_name": "Python 3.9.6 64-bit",
   "language": "python",
   "name": "python3"
  },
  "language_info": {
   "codemirror_mode": {
    "name": "ipython",
    "version": 3
   },
   "file_extension": ".py",
   "mimetype": "text/x-python",
   "name": "python",
   "nbconvert_exporter": "python",
   "pygments_lexer": "ipython3",
   "version": "3.9.6"
  },
  "orig_nbformat": 4
 },
 "nbformat": 4,
 "nbformat_minor": 2
}
