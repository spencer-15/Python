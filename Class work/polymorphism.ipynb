{
 "cells": [
  {
   "cell_type": "markdown",
   "metadata": {},
   "source": [
    ">Polymorphism\n",
    "\n",
    "-it means many and morphism means form\n",
    "-polymorphism is derived from greek word\n",
    " in simple way we can say that one named method has diferent different forms\n",
    "\n",
    "1) method overloading: one class can contain more than 1 same name methods \n",
    "   note : python does not support method overloading\n",
    "\n",
    "2) method overriding: parent and child have same name method its called method overloading"
   ]
  },
  {
   "cell_type": "code",
   "execution_count": 1,
   "metadata": {},
   "outputs": [
    {
     "name": "stdout",
     "output_type": "stream",
     "text": [
      "4 wheels\n",
      "2 wheels\n"
     ]
    }
   ],
   "source": [
    "# overriding\n",
    "\n",
    "class Vehicle:\n",
    "    def wheels(self):\n",
    "        pass\n",
    "\n",
    "class Car(Vehicle):\n",
    "    def wheels(self):\n",
    "        print(\"4 wheels\")\n",
    "\n",
    "class Bike(Vehicle):\n",
    "    def wheels(self):\n",
    "        print(\"2 wheels\")\n",
    "\n",
    "c = Car()\n",
    "b = Bike()\n",
    "\n",
    "c.wheels()\n",
    "b.wheels()"
   ]
  },
  {
   "cell_type": "code",
   "execution_count": 2,
   "metadata": {},
   "outputs": [
    {
     "name": "stdout",
     "output_type": "stream",
     "text": [
      "A class here\n",
      "B class here\n"
     ]
    }
   ],
   "source": [
    "class A:\n",
    "    def display(self):\n",
    "        print(\"A class here\")\n",
    "\n",
    "class B(A):\n",
    "    def display(self):\n",
    "        A.display(self)\n",
    "        print(\"B class here\")\n",
    "\n",
    "b = B()\n",
    "b.display()"
   ]
  }
 ],
 "metadata": {
  "kernelspec": {
   "display_name": "Python 3.9.6 64-bit",
   "language": "python",
   "name": "python3"
  },
  "language_info": {
   "codemirror_mode": {
    "name": "ipython",
    "version": 3
   },
   "file_extension": ".py",
   "mimetype": "text/x-python",
   "name": "python",
   "nbconvert_exporter": "python",
   "pygments_lexer": "ipython3",
   "version": "3.9.6"
  },
  "orig_nbformat": 4,
  "vscode": {
   "interpreter": {
    "hash": "df667f885b32d85fe0ec4dba32479b46b75d7489a1229482fc72753e0a81fc69"
   }
  }
 },
 "nbformat": 4,
 "nbformat_minor": 2
}
