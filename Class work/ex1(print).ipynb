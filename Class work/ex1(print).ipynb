{
 "cells": [
  {
   "cell_type": "code",
   "execution_count": 1,
   "metadata": {},
   "outputs": [],
   "source": [
    "name=input(\"Please your name\")\n",
    "age=input(f\"{name},Please enter your age\")\n",
    "sport=input(f\"{name},Please enter your favourite sport\")\n",
    "hobby=input(f\"{name},Please enter your hobby\")"
   ]
  },
  {
   "cell_type": "code",
   "execution_count": 3,
   "metadata": {},
   "outputs": [
    {
     "name": "stdout",
     "output_type": "stream",
     "text": [
      "Hello, my name is deep and I am 22 years old. My favourite sports is swimming and My hobby is cricket.\n"
     ]
    }
   ],
   "source": [
    "print(\"Hello, my name is \" + name + \" and I am \" + str(age) + \" years old. My favourite sports is \" + sport + \" and My hobby is \" + hobby + \".\")"
   ]
  },
  {
   "cell_type": "code",
   "execution_count": 1,
   "metadata": {},
   "outputs": [
    {
     "ename": "NameError",
     "evalue": "name 'name' is not defined",
     "output_type": "error",
     "traceback": [
      "\u001b[1;31m---------------------------------------------------------------------------\u001b[0m",
      "\u001b[1;31mNameError\u001b[0m                                 Traceback (most recent call last)",
      "\u001b[1;32mc:\\Users\\vakha.DESKTOP-J8RAJ1K\\OneDrive\\Desktop\\Python\\ex1(print).ipynb Cell 3\u001b[0m in \u001b[0;36m<cell line: 1>\u001b[1;34m()\u001b[0m\n\u001b[1;32m----> <a href='vscode-notebook-cell:/c%3A/Users/vakha.DESKTOP-J8RAJ1K/OneDrive/Desktop/Python/ex1%28print%29.ipynb#ch0000002?line=0'>1</a>\u001b[0m \u001b[39mprint\u001b[39m(\u001b[39m\"\u001b[39m\u001b[39mHello, my name is \u001b[39m\u001b[39m\"\u001b[39m , name , \u001b[39m\"\u001b[39m\u001b[39m and I am \u001b[39m\u001b[39m\"\u001b[39m , \u001b[39mstr\u001b[39m(age) , \u001b[39m\"\u001b[39m\u001b[39m years old. My favourite sports is \u001b[39m\u001b[39m\"\u001b[39m , sport , \u001b[39m\"\u001b[39m\u001b[39m and My hobby is \u001b[39m\u001b[39m\"\u001b[39m , hobby , \u001b[39m\"\u001b[39m\u001b[39m.\u001b[39m\u001b[39m\"\u001b[39m)\n",
      "\u001b[1;31mNameError\u001b[0m: name 'name' is not defined"
     ]
    }
   ],
   "source": [
    "print(\"Hello, my name is \" , name , \" and I am \" , str(age) , \" years old. My favourite sports is \" , sport , \" and My hobby is \" , hobby , \".\")"
   ]
  },
  {
   "cell_type": "code",
   "execution_count": 6,
   "metadata": {},
   "outputs": [
    {
     "name": "stdout",
     "output_type": "stream",
     "text": [
      "Hello, my name is deep and I am swimming years old. My favourite sports is cricket and My hobby is 22.\n"
     ]
    }
   ],
   "source": [
    "print(\"Hello, my name is {} and I am {} years old. My favourite sports is {} and My hobby is {}.\".format(name,sport,hobby,age))"
   ]
  },
  {
   "cell_type": "code",
   "execution_count": 6,
   "metadata": {},
   "outputs": [
    {
     "name": "stdout",
     "output_type": "stream",
     "text": [
      "Hello, my name is Deep and I am 23 years old. My favourite sports is swimming and My hobby is music.\n"
     ]
    }
   ],
   "source": [
    "print(f\"Hello, my name is {name} and I am {age} years old. My favourite sports is {sport} and My hobby is {hobby}.\")"
   ]
  }
 ],
 "metadata": {
  "kernelspec": {
   "display_name": "Python 3.10.5 64-bit",
   "language": "python",
   "name": "python3"
  },
  "language_info": {
   "codemirror_mode": {
    "name": "ipython",
    "version": 3
   },
   "file_extension": ".py",
   "mimetype": "text/x-python",
   "name": "python",
   "nbconvert_exporter": "python",
   "pygments_lexer": "ipython3",
   "version": "3.10.5"
  },
  "orig_nbformat": 4,
  "vscode": {
   "interpreter": {
    "hash": "e84f63db95fe4bce2a739250d3724d0823731002a7896047103cb28b9fc7cc34"
   }
  }
 },
 "nbformat": 4,
 "nbformat_minor": 2
}
