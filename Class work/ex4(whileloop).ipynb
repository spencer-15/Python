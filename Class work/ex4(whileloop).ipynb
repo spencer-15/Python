{
 "cells": [
  {
   "cell_type": "code",
   "execution_count": 9,
   "metadata": {},
   "outputs": [
    {
     "name": "stdout",
     "output_type": "stream",
     "text": [
      "Press 1 to add\n",
      "Press 2 to sub\n",
      "Press 3 to mul\n",
      "Press 4 to div\n",
      "Press 5 to QUIT\n",
      "Thank you\n"
     ]
    }
   ],
   "source": [
    "while True:\n",
    "    print(\"Press 1 to add\")\n",
    "    print(\"Press 2 to sub\")\n",
    "    print(\"Press 3 to mul\")\n",
    "    print(\"Press 4 to div\")\n",
    "    print(\"Press 5 to QUIT\")\n",
    "    a=input(\"Enter the number for operation:\")\n",
    "\n",
    "    if a.isdigit():\n",
    "        a = int(a)\n",
    "        if a == 5:\n",
    "            print(\"Thank you\")\n",
    "            break\n",
    "        else:\n",
    "            num1=input(\"Enter the number 1:\")\n",
    "            num2=input(\"Enter the number 2:\") \n",
    "            if num1.isdigit() and num2.isdigit():\n",
    "                    num1 = int(num1)\n",
    "                    num2 = int(num2)\n",
    "        \n",
    "                    if a==1:\n",
    "                        ans=num1 + num2\n",
    "                        print(f\"{num1} + {num2} = {ans}\")\n",
    "                    elif a==2:\n",
    "                        ans=num1-num2\n",
    "                        print(f\"{num1} - {num2} = {ans}\")\n",
    "                    elif a==3:\n",
    "                        ans=num1*num2\n",
    "                        print(f\"{num1} * {num2} = {ans}\")\n",
    "                    elif a==4:\n",
    "                        if num2==0:\n",
    "                            print(\"not be divided\")\n",
    "                        else:\n",
    "                            ans=num1/num2\n",
    "                            print(f\"{num1} / {num2} = {ans}\")\n",
    "                    else:\n",
    "                         print(\"Invalid option\")\n",
    "            else:\n",
    "                print(\"Please enter numbers only\")\n",
    "    else:\n",
    "        print(\"Please enter numbers only for menu\")\n",
    "    "
   ]
  },
  {
   "cell_type": "code",
   "execution_count": null,
   "metadata": {},
   "outputs": [],
   "source": [
    "status = True\n",
    "while status:\n",
    "    num = int(input(\"Enter a number:\"))\n",
    "    print(num)\n",
    "    choice = input(\"Do you want to enter more number 'y' for yes and 'n' for no:\")\n",
    "    if choice == 'y':\n",
    "        status = True\n",
    "    else:\n",
    "        status = False"
   ]
  },
  {
   "cell_type": "code",
   "execution_count": null,
   "metadata": {},
   "outputs": [],
   "source": [
    "computer_guest = random.randint(1,100)\n",
    "\n",
    "status = True\n",
    "while status:\n",
    "    user_guest = int(input(\"Enter user guess number:\"))\n",
    "    if user_guest>computer_guest:\n",
    "        print(\"Guess Lower number\")\n",
    "    elif user_guest<computer_guest:\n",
    "        print(\"Guess Higher number\")\n",
    "    else:\n",
    "        print(\"You got it !!!\")\n",
    "        status = False"
   ]
  }
 ],
 "metadata": {
  "interpreter": {
   "hash": "e83912e36bf17ab730511e8b93e9b6a0c5c8328244ae60ac2da39fdd335ac6d1"
  },
  "kernelspec": {
   "display_name": "Python 3.9.6 64-bit",
   "language": "python",
   "name": "python3"
  },
  "language_info": {
   "codemirror_mode": {
    "name": "ipython",
    "version": 3
   },
   "file_extension": ".py",
   "mimetype": "text/x-python",
   "name": "python",
   "nbconvert_exporter": "python",
   "pygments_lexer": "ipython3",
   "version": "3.9.6"
  },
  "orig_nbformat": 4
 },
 "nbformat": 4,
 "nbformat_minor": 2
}
