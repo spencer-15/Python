{
 "cells": [
  {
   "cell_type": "code",
   "execution_count": 2,
   "metadata": {},
   "outputs": [
    {
     "ename": "OperationalError",
     "evalue": "(2003, \"Can't connect to MySQL server on 'localhost' ([WinError 10061] No connection could be made because the target machine actively refused it)\")",
     "output_type": "error",
     "traceback": [
      "\u001b[1;31m---------------------------------------------------------------------------\u001b[0m",
      "\u001b[1;31mConnectionRefusedError\u001b[0m                    Traceback (most recent call last)",
      "File \u001b[1;32mc:\\Users\\vakha.DESKTOP-J8RAJ1K\\AppData\\Local\\Programs\\Python\\Python39\\lib\\site-packages\\pymysql\\connections.py:613\u001b[0m, in \u001b[0;36mConnection.connect\u001b[1;34m(self, sock)\u001b[0m\n\u001b[0;32m    612\u001b[0m \u001b[39mtry\u001b[39;00m:\n\u001b[1;32m--> 613\u001b[0m     sock \u001b[39m=\u001b[39m socket\u001b[39m.\u001b[39mcreate_connection(\n\u001b[0;32m    614\u001b[0m         (\u001b[39mself\u001b[39m\u001b[39m.\u001b[39mhost, \u001b[39mself\u001b[39m\u001b[39m.\u001b[39mport), \u001b[39mself\u001b[39m\u001b[39m.\u001b[39mconnect_timeout, \u001b[39m*\u001b[39m\u001b[39m*\u001b[39mkwargs\n\u001b[0;32m    615\u001b[0m     )\n\u001b[0;32m    616\u001b[0m     \u001b[39mbreak\u001b[39;00m\n",
      "File \u001b[1;32mc:\\Users\\vakha.DESKTOP-J8RAJ1K\\AppData\\Local\\Programs\\Python\\Python39\\lib\\socket.py:843\u001b[0m, in \u001b[0;36mcreate_connection\u001b[1;34m(address, timeout, source_address)\u001b[0m\n\u001b[0;32m    842\u001b[0m \u001b[39mtry\u001b[39;00m:\n\u001b[1;32m--> 843\u001b[0m     \u001b[39mraise\u001b[39;00m err\n\u001b[0;32m    844\u001b[0m \u001b[39mfinally\u001b[39;00m:\n\u001b[0;32m    845\u001b[0m     \u001b[39m# Break explicitly a reference cycle\u001b[39;00m\n",
      "File \u001b[1;32mc:\\Users\\vakha.DESKTOP-J8RAJ1K\\AppData\\Local\\Programs\\Python\\Python39\\lib\\socket.py:831\u001b[0m, in \u001b[0;36mcreate_connection\u001b[1;34m(address, timeout, source_address)\u001b[0m\n\u001b[0;32m    830\u001b[0m     sock\u001b[39m.\u001b[39mbind(source_address)\n\u001b[1;32m--> 831\u001b[0m sock\u001b[39m.\u001b[39;49mconnect(sa)\n\u001b[0;32m    832\u001b[0m \u001b[39m# Break explicitly a reference cycle\u001b[39;00m\n",
      "\u001b[1;31mConnectionRefusedError\u001b[0m: [WinError 10061] No connection could be made because the target machine actively refused it",
      "\nDuring handling of the above exception, another exception occurred:\n",
      "\u001b[1;31mOperationalError\u001b[0m                          Traceback (most recent call last)",
      "\u001b[1;32mc:\\Users\\vakha.DESKTOP-J8RAJ1K\\OneDrive\\Desktop\\Python\\Tkinter(GUI)\\appwithdatabase.ipynb Cell 1'\u001b[0m in \u001b[0;36m<cell line: 11>\u001b[1;34m()\u001b[0m\n\u001b[0;32m      <a href='vscode-notebook-cell:/c%3A/Users/vakha.DESKTOP-J8RAJ1K/OneDrive/Desktop/Python/Tkinter%28GUI%29/appwithdatabase.ipynb#ch0000000?line=7'>8</a>\u001b[0m screen\u001b[39m.\u001b[39mtitle(\u001b[39m\"\u001b[39m\u001b[39mMY FORM\u001b[39m\u001b[39m\"\u001b[39m)\n\u001b[0;32m      <a href='vscode-notebook-cell:/c%3A/Users/vakha.DESKTOP-J8RAJ1K/OneDrive/Desktop/Python/Tkinter%28GUI%29/appwithdatabase.ipynb#ch0000000?line=8'>9</a>\u001b[0m \u001b[39m# screen.configure(background=\"blue\")\u001b[39;00m\n\u001b[1;32m---> <a href='vscode-notebook-cell:/c%3A/Users/vakha.DESKTOP-J8RAJ1K/OneDrive/Desktop/Python/Tkinter%28GUI%29/appwithdatabase.ipynb#ch0000000?line=10'>11</a>\u001b[0m mycon \u001b[39m=\u001b[39m pymysql\u001b[39m.\u001b[39;49mconnect(host\u001b[39m=\u001b[39;49m\u001b[39m\"\u001b[39;49m\u001b[39mlocalhost\u001b[39;49m\u001b[39m\"\u001b[39;49m,user\u001b[39m=\u001b[39;49m\u001b[39m\"\u001b[39;49m\u001b[39mroot\u001b[39;49m\u001b[39m\"\u001b[39;49m,password\u001b[39m=\u001b[39;49m\u001b[39m\"\u001b[39;49m\u001b[39m\"\u001b[39;49m,database\u001b[39m=\u001b[39;49m\u001b[39m\"\u001b[39;49m\u001b[39mmytkinter_db\u001b[39;49m\u001b[39m\"\u001b[39;49m)\n\u001b[0;32m     <a href='vscode-notebook-cell:/c%3A/Users/vakha.DESKTOP-J8RAJ1K/OneDrive/Desktop/Python/Tkinter%28GUI%29/appwithdatabase.ipynb#ch0000000?line=11'>12</a>\u001b[0m mycur \u001b[39m=\u001b[39m mycon\u001b[39m.\u001b[39mcursor()\n\u001b[0;32m     <a href='vscode-notebook-cell:/c%3A/Users/vakha.DESKTOP-J8RAJ1K/OneDrive/Desktop/Python/Tkinter%28GUI%29/appwithdatabase.ipynb#ch0000000?line=13'>14</a>\u001b[0m mycur\u001b[39m.\u001b[39mexecyte(\u001b[39m\"\u001b[39m\u001b[39mcreate table if not exists students (id int(4) primary key auto_increment, firstname varchar(20),lastname varchar(20), subject varchar(20)\u001b[39m\u001b[39m\"\u001b[39m)\n",
      "File \u001b[1;32mc:\\Users\\vakha.DESKTOP-J8RAJ1K\\AppData\\Local\\Programs\\Python\\Python39\\lib\\site-packages\\pymysql\\connections.py:353\u001b[0m, in \u001b[0;36mConnection.__init__\u001b[1;34m(self, user, password, host, database, unix_socket, port, charset, sql_mode, read_default_file, conv, use_unicode, client_flag, cursorclass, init_command, connect_timeout, read_default_group, autocommit, local_infile, max_allowed_packet, defer_connect, auth_plugin_map, read_timeout, write_timeout, bind_address, binary_prefix, program_name, server_public_key, ssl, ssl_ca, ssl_cert, ssl_disabled, ssl_key, ssl_verify_cert, ssl_verify_identity, compress, named_pipe, passwd, db)\u001b[0m\n\u001b[0;32m    351\u001b[0m     \u001b[39mself\u001b[39m\u001b[39m.\u001b[39m_sock \u001b[39m=\u001b[39m \u001b[39mNone\u001b[39;00m\n\u001b[0;32m    352\u001b[0m \u001b[39melse\u001b[39;00m:\n\u001b[1;32m--> 353\u001b[0m     \u001b[39mself\u001b[39;49m\u001b[39m.\u001b[39;49mconnect()\n",
      "File \u001b[1;32mc:\\Users\\vakha.DESKTOP-J8RAJ1K\\AppData\\Local\\Programs\\Python\\Python39\\lib\\site-packages\\pymysql\\connections.py:664\u001b[0m, in \u001b[0;36mConnection.connect\u001b[1;34m(self, sock)\u001b[0m\n\u001b[0;32m    662\u001b[0m     \u001b[39mif\u001b[39;00m DEBUG:\n\u001b[0;32m    663\u001b[0m         \u001b[39mprint\u001b[39m(exc\u001b[39m.\u001b[39mtraceback)\n\u001b[1;32m--> 664\u001b[0m     \u001b[39mraise\u001b[39;00m exc\n\u001b[0;32m    666\u001b[0m \u001b[39m# If e is neither DatabaseError or IOError, It's a bug.\u001b[39;00m\n\u001b[0;32m    667\u001b[0m \u001b[39m# But raising AssertionError hides original error.\u001b[39;00m\n\u001b[0;32m    668\u001b[0m \u001b[39m# So just reraise it.\u001b[39;00m\n\u001b[0;32m    669\u001b[0m \u001b[39mraise\u001b[39;00m\n",
      "\u001b[1;31mOperationalError\u001b[0m: (2003, \"Can't connect to MySQL server on 'localhost' ([WinError 10061] No connection could be made because the target machine actively refused it)\")"
     ]
    }
   ],
   "source": [
    "from tkinter import *\n",
    "import pymysql\n",
    "# pip install pymysql\n",
    "\n",
    "screen = Tk()\n",
    "\n",
    "screen.geometry(\"500x500\")\n",
    "screen.title(\"MY FORM\")\n",
    "# screen.configure(background=\"blue\")\n",
    "\n",
    "mycon = pymysql.connect(host=\"localhost\",user=\"root\",password=\"\",database=\"mytkinter_db\")\n",
    "mycur = mycon.cursor()\n",
    "\n",
    "mycur.execyte(\"create table if not exists students (id int(4) primary key auto_increment, firstname varchar(20),lastname varchar(20), subject varchar(20)\")\n",
    "mycon.commit\n",
    "\n",
    "\"\"\"\n",
    "tkinter variable\n",
    "\"\"\"\n",
    "\n",
    "var_firstname = StringVar()\n",
    "var_lastname = StringVar()\n",
    "var_subject = StringVar()\n",
    "\n",
    "def submit():\n",
    "    print(var_firstname.get(20))\n",
    "    print(var_lastname.get(20))\n",
    "    print(var_subject.get(20))\n",
    "    \n",
    "    query = \"insert into student (firstname, lastname, subject) values('%s','%s','%s')\"\n",
    "    args = (var_firstname.get(20),var_lastname.get(20),var_subject.get(20))\n",
    "    mycur.commit()\n",
    "    var_firstname.set(\"\")\n",
    "    var_lastname.set(\"\")\n",
    "    var_subject.set(\"\")\n",
    "    \n",
    "lbl = Label(screen,text=\"Firstname\",font=(\"Arial\",12,\"bold\"))\n",
    "lbl.place(x=10,y=10)\n",
    "\n",
    "e1 = Entry(screen,textvariable=var_firstname)\n",
    "e1.place(x=120,y=15)\n",
    "\n",
    "lbl = Label(screen,text=\"Lastname\",font=(\"Arial\",12,\"bold\"))\n",
    "lbl.place(x=10,y=50)\n",
    "\n",
    "e1 = Entry(screen,textvariable=var_lastname)\n",
    "e1.place(x=120,y=55)\n",
    "\n",
    "lbl = Label(screen,text=\"Subject\",font=(\"Arial\",12,\"bold\"))\n",
    "lbl.place(x=120,y=105)\n",
    "\n",
    "e1 = Entry(screen,textvariable=var_subject)\n",
    "e1.place(x=150,y=150)\n",
    "\n",
    "screen.mainloop()"
   ]
  }
 ],
 "metadata": {
  "kernelspec": {
   "display_name": "Python 3.9.6 64-bit",
   "language": "python",
   "name": "python3"
  },
  "language_info": {
   "codemirror_mode": {
    "name": "ipython",
    "version": 3
   },
   "file_extension": ".py",
   "mimetype": "text/x-python",
   "name": "python",
   "nbconvert_exporter": "python",
   "pygments_lexer": "ipython3",
   "version": "3.9.6"
  },
  "orig_nbformat": 4,
  "vscode": {
   "interpreter": {
    "hash": "df667f885b32d85fe0ec4dba32479b46b75d7489a1229482fc72753e0a81fc69"
   }
  }
 },
 "nbformat": 4,
 "nbformat_minor": 2
}
