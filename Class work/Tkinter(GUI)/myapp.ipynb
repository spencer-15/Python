{
 "cells": [
  {
   "cell_type": "code",
   "execution_count": 11,
   "metadata": {},
   "outputs": [],
   "source": [
    "#program with pack\n",
    "from tkinter import *\n",
    "\n",
    "screen = Tk()\n",
    "screen.title(\"My Notepad\")\n",
    "screen.geometry(\"500x500\")\n",
    "\n",
    "lbl = Label(screen,text=\"Hello World\")\n",
    "#pack or place or grid\n",
    "\n",
    "lbl.pack()\n",
    "\n",
    "screen.mainloop()"
   ]
  },
  {
   "cell_type": "code",
   "execution_count": 13,
   "metadata": {},
   "outputs": [],
   "source": [
    "#program with place\n",
    "from tkinter import *\n",
    "\n",
    "screen = Tk()\n",
    "screen.title(\"My Notepad\")\n",
    "screen.geometry(\"500x500\")\n",
    "\n",
    "lbl = Label(screen,text=\"Hello World\",font=(\"Arial\",26,\"bold\"),bg=\"blue\",fg=\"white\")\n",
    "#pack or place or grid\n",
    "\n",
    "lbl.place(x=10,y=10)\n",
    "\n",
    "screen.mainloop()"
   ]
  },
  {
   "cell_type": "code",
   "execution_count": 16,
   "metadata": {},
   "outputs": [],
   "source": [
    "#program with button\n",
    "from tkinter import *\n",
    "\n",
    "screen = Tk()\n",
    "screen.title(\"My Notepad\")\n",
    "screen.geometry(\"500x500\")\n",
    "\n",
    "btn = Button(screen,text=\"Click here\",font=(\"Arial\",20,\"bold\"),bg=\"blue\",fg=\"white\",activebackground=\"black\",activeforeground=\"white\")\n",
    "\n",
    "btn.place(x=10,y=20)\n",
    "\n",
    "screen.mainloop()"
   ]
  },
  {
   "cell_type": "code",
   "execution_count": 17,
   "metadata": {},
   "outputs": [
    {
     "name": "stdout",
     "output_type": "stream",
     "text": [
      "Welcome to Graphic world\n"
     ]
    }
   ],
   "source": [
    "#program on buttun click\n",
    "from tkinter import *\n",
    "\n",
    "screen = Tk()\n",
    "screen.title(\"My Notepad\")\n",
    "screen.geometry(\"500x500\")\n",
    "\n",
    "def myfun():\n",
    "    print(\"Welcome to Graphic world\")\n",
    "\n",
    "btn = Button(screen,text=\"Click here\",font=(\"Arial\",20,\"bold\"),command=myfun,bg=\"blue\",fg=\"white\",activebackground=\"black\",activeforeground=\"white\")\n",
    "\n",
    "btn.place(x=10,y=20)\n",
    "\n",
    "screen.mainloop()"
   ]
  },
  {
   "cell_type": "code",
   "execution_count": 20,
   "metadata": {},
   "outputs": [
    {
     "name": "stdout",
     "output_type": "stream",
     "text": [
      "Welcome to Graphic world\n"
     ]
    }
   ],
   "source": [
    "#program on buttun click in gui\n",
    "from tkinter import *\n",
    "\n",
    "screen = Tk()\n",
    "screen.title(\"My Notepad\")\n",
    "screen.geometry(\"500x500\")\n",
    "\n",
    "mylbl_var = StringVar()\n",
    "\n",
    "def myfun():\n",
    "    print(\"Welcome to Graphic world\")\n",
    "    mylbl_var.set(\"Welcome to Tkinter\")\n",
    "\n",
    "btn = Button(screen,text=\"Click here\",font=(\"Arial\",20,\"bold\"),command=myfun,bg=\"blue\",fg=\"white\",activebackground=\"black\",activeforeground=\"white\")\n",
    "btn.place(x=10,y=20)\n",
    "\n",
    "lbl = Label(screen,textvariable=mylbl_var)\n",
    "lbl.place(x=20,y=150)\n",
    "\n",
    "screen.mainloop()"
   ]
  },
  {
   "cell_type": "code",
   "execution_count": 2,
   "metadata": {},
   "outputs": [],
   "source": [
    "from tkinter import *\n",
    "\n",
    "screen = Tk()\n",
    "\n",
    "var_count = IntVar()\n",
    "count = 0\n",
    "\n",
    "def counter(msg):\n",
    "    global count\n",
    "    if msg == \"add\":\n",
    "        count = count + 1\n",
    "    else:\n",
    "        count = count - 1\n",
    "    var_count.set(count)\n",
    "\n",
    "screen.title(\"Welcome to counter app\")\n",
    "screen.geometry(\"350x350\")\n",
    "\n",
    "btn = Button(screen,text=\"+\",command=lambda : counter(\"add\"),font=(\"Arial\",20,\"bold\"))\n",
    "btn.place(x=10,y=20)\n",
    "\n",
    "lbl = Label(screen,textvariable=var_count,font=(\"Arial\",20,\"bold\"))\n",
    "lbl.place(x=80,y=30)\n",
    "\n",
    "btn = Button(screen,text=\"-\",command=lambda : counter(\"minus\"),font=(\"Arial\",20,\"bold\"))\n",
    "btn.place(x=120,y=20)\n",
    "\n",
    "screen.mainloop()\n"
   ]
  },
  {
   "cell_type": "code",
   "execution_count": 8,
   "metadata": {},
   "outputs": [],
   "source": [
    "import random\n",
    "from tkinter import *\n",
    "\n",
    "screen = Tk()\n",
    "var_count = IntVar()\n",
    "count = 0\n",
    "\n",
    "def counter(msg):\n",
    "    global count\n",
    "    if msg == \"add\":\n",
    "        count = count + 1\n",
    "    else:\n",
    "        count = count - 1\n",
    "    var_count.set(count)\n",
    "\n",
    "screen.title(\"ROCK PAPER SCISSOR\")\n",
    "screen.geometry(\"350x350\")\n",
    "\n",
    "btn = Button(screen,text=\"Rock\",command=lambda : counter(\"Rock\"),font=(\"Arial\",20,\"bold\"))\n",
    "btn.place(x=10,y=20)\n",
    "\n",
    "btn = Button(screen,text=\"Paper\",command=lambda : counter(\"Paper\"),font=(\"Arial\",20,\"bold\"))\n",
    "btn.place(x=110,y=20)\n",
    "\n",
    "btn = Button(screen,text=\"Scissor\",command=lambda : counter(\"Scissor\"),font=(\"Arial\",20,\"bold\"))\n",
    "btn.place(x=220,y=20)\n",
    "\n",
    "screen.mainloop()"
   ]
  }
 ],
 "metadata": {
  "kernelspec": {
   "display_name": "Python 3.9.6 64-bit",
   "language": "python",
   "name": "python3"
  },
  "language_info": {
   "codemirror_mode": {
    "name": "ipython",
    "version": 3
   },
   "file_extension": ".py",
   "mimetype": "text/x-python",
   "name": "python",
   "nbconvert_exporter": "python",
   "pygments_lexer": "ipython3",
   "version": "3.9.6"
  },
  "orig_nbformat": 4,
  "vscode": {
   "interpreter": {
    "hash": "df667f885b32d85fe0ec4dba32479b46b75d7489a1229482fc72753e0a81fc69"
   }
  }
 },
 "nbformat": 4,
 "nbformat_minor": 2
}
