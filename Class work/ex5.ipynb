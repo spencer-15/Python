{
 "cells": [
  {
   "cell_type": "code",
   "execution_count": 5,
   "metadata": {},
   "outputs": [
    {
     "name": "stdout",
     "output_type": "stream",
     "text": [
      "(3)a(2)b(3)c(2)e"
     ]
    }
   ],
   "source": [
    "str=\"aaabbcccee\"\n",
    "\n",
    "counter =0\n",
    "temp=str[0]\n",
    "\n",
    "for i in str:\n",
    "    if temp==i:\n",
    "        counter+=1\n",
    "    else:\n",
    "        print(f\"({counter}){temp}\", end=\"\")\n",
    "        temp = i\n",
    "        counter = 1\n",
    "print(f\"({counter}){temp}\", end=\"\")\n",
    "\n"
   ]
  },
  {
   "cell_type": "code",
   "execution_count": null,
   "metadata": {},
   "outputs": [],
   "source": []
  }
 ],
 "metadata": {
  "interpreter": {
   "hash": "e83912e36bf17ab730511e8b93e9b6a0c5c8328244ae60ac2da39fdd335ac6d1"
  },
  "kernelspec": {
   "display_name": "Python 3.9.6 64-bit",
   "language": "python",
   "name": "python3"
  },
  "language_info": {
   "codemirror_mode": {
    "name": "ipython",
    "version": 3
   },
   "file_extension": ".py",
   "mimetype": "text/x-python",
   "name": "python",
   "nbconvert_exporter": "python",
   "pygments_lexer": "ipython3",
   "version": "3.9.6"
  },
  "orig_nbformat": 4
 },
 "nbformat": 4,
 "nbformat_minor": 2
}
