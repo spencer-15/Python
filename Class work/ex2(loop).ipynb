{
 "cells": [
  {
   "cell_type": "code",
   "execution_count": 2,
   "metadata": {},
   "outputs": [
    {
     "name": "stdout",
     "output_type": "stream",
     "text": [
      "10 / 3 = 3\n"
     ]
    }
   ],
   "source": [
    "num1=int(input(\"Enter the number 1:\"))\n",
    "num2=int(input(\"Enter the number 2:\"))\n",
    "a=input(\"Enter the number for operation:\")\n",
    "\n",
    "if int(a)==1:\n",
    "    ans=num1 + num2\n",
    "    print(f\"{num1} + {num2} = {ans}\")\n",
    "elif int(a)==2:\n",
    "    ans=num1-num2\n",
    "    print(f\"{num1} - {num2} = {ans}\")\n",
    "elif int(a)==3:\n",
    "    ans=num1*num2\n",
    "    print(f\"{num1} * {num2} = {ans}\")\n",
    "elif int(a)==4:\n",
    "    if num2==0:\n",
    "        print(\"not be divided\")\n",
    "    else:\n",
    "        ans=num1/num2\n",
    "        print(f\"{num1} / {num2} = {ans}\")\n",
    "else:\n",
    "    print(\"Invalid option\")"
   ]
  },
  {
   "cell_type": "code",
   "execution_count": null,
   "metadata": {},
   "outputs": [],
   "source": []
  }
 ],
 "metadata": {
  "interpreter": {
   "hash": "df667f885b32d85fe0ec4dba32479b46b75d7489a1229482fc72753e0a81fc69"
  },
  "kernelspec": {
   "display_name": "Python 3.9.6 64-bit",
   "language": "python",
   "name": "python3"
  },
  "language_info": {
   "codemirror_mode": {
    "name": "ipython",
    "version": 3
   },
   "file_extension": ".py",
   "mimetype": "text/x-python",
   "name": "python",
   "nbconvert_exporter": "python",
   "pygments_lexer": "ipython3",
   "version": "3.9.6"
  },
  "orig_nbformat": 4
 },
 "nbformat": 4,
 "nbformat_minor": 2
}
