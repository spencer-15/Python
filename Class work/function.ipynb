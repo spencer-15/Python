{
 "cells": [
  {
   "cell_type": "markdown",
   "metadata": {},
   "source": [
    "Function\n",
    "\n",
    "function is a block of code that code are used to again and again\n",
    "\n",
    "Using of function we can reduce our code and save time\n",
    "\n",
    "function steps :\n",
    "\n",
    "1) function defination \n",
    "    syntax :\n",
    "            def <funname>():\n",
    "                statement \n",
    "2) fucntion calling\n",
    "    syntax :\n",
    "            funname()"
   ]
  },
  {
   "cell_type": "code",
   "execution_count": 1,
   "metadata": {},
   "outputs": [
    {
     "name": "stdout",
     "output_type": "stream",
     "text": [
      "hello world\n"
     ]
    }
   ],
   "source": [
    "def abc():\n",
    "    print(\"hello world\")\n",
    "\n",
    "abc()"
   ]
  },
  {
   "cell_type": "markdown",
   "metadata": {},
   "source": [
    "function categories :\n",
    " \n",
    " there are types of categories\n",
    "\n",
    " 1) function without parameter and function without return type\n",
    " 2) function with parameter and function without return type \n",
    " 3) function without parameter and function with return type\n",
    " 4) function with parameter and function with return type"
   ]
  },
  {
   "cell_type": "code",
   "execution_count": 1,
   "metadata": {},
   "outputs": [
    {
     "name": "stdout",
     "output_type": "stream",
     "text": [
      "deep\n"
     ]
    }
   ],
   "source": [
    "#function with parameter and function without return type \n",
    "\n",
    "def display(name):\n",
    "    print(name)\n",
    "name = input(\"Enter name:\")\n",
    "display(name)"
   ]
  },
  {
   "cell_type": "code",
   "execution_count": null,
   "metadata": {},
   "outputs": [],
   "source": [
    "def sum(num1,num2):\n",
    "    ans = num1 + num2\n",
    "    print(ans)\n",
    "\n",
    "def mul(num1,num2):\n",
    "    ans =  num1 * num2\n",
    "    print(ans)\n",
    "\n",
    "def menu():\n",
    "\n",
    "    data = '''press 1 for addition\n",
    "            press 2 for multiplicatiion'''\n",
    "\n",
    "    print(data)\n",
    "\n",
    "    choice = int(input(\"Enter your choice\"))\n",
    "\n",
    "    num1 = int(input(\"Enter your number 1 : \"))\n",
    "    num2 =  int(input(\"Enter your number 2 : \"))\n",
    "\n",
    "    if choice == 1:\n",
    "        sum(num1,num2)\n",
    "    elif choice == 2:\n",
    "        mul(num1,num2)\n",
    "    else:\n",
    "        print(\"invalid option\")\n",
    "\n",
    "menu() \n"
   ]
  },
  {
   "cell_type": "code",
   "execution_count": 5,
   "metadata": {},
   "outputs": [
    {
     "name": "stdout",
     "output_type": "stream",
     "text": [
      "odd\n"
     ]
    }
   ],
   "source": [
    "def checkEvenOdd():\n",
    "\n",
    "    num = int(input(\"Enter number : \"))\n",
    "    if num%2 == 0:\n",
    "         return \"Even\"\n",
    "    else:\n",
    "        return \"odd\"\n",
    "print(checkEvenOdd())"
   ]
  },
  {
   "cell_type": "code",
   "execution_count": 6,
   "metadata": {},
   "outputs": [
    {
     "name": "stdout",
     "output_type": "stream",
     "text": [
      "odd\n"
     ]
    }
   ],
   "source": [
    "def checkEvenOdd(num):\n",
    "    \n",
    "    if num%2 == 0:\n",
    "         return \"Even Number\"\n",
    "    else:\n",
    "        return \"Odd Number\"\n",
    "num = int(input(\"Enter number : \"))\n",
    "print(checkEvenOdd(num))"
   ]
  },
  {
   "cell_type": "markdown",
   "metadata": {},
   "source": [
    "> Lambda function\n",
    "\n",
    "function without any name its caleed lambda function\n",
    "\n",
    "Syntax:\n",
    "\n",
    "var = lambda parameter : expression"
   ]
  },
  {
   "cell_type": "code",
   "execution_count": 1,
   "metadata": {},
   "outputs": [
    {
     "name": "stdout",
     "output_type": "stream",
     "text": [
      "16\n"
     ]
    }
   ],
   "source": [
    "x = lambda num : num * num\n",
    "print(x(4))"
   ]
  },
  {
   "cell_type": "code",
   "execution_count": 2,
   "metadata": {},
   "outputs": [
    {
     "name": "stdout",
     "output_type": "stream",
     "text": [
      "25\n"
     ]
    }
   ],
   "source": [
    "def square(num):\n",
    "    ans = num * num\n",
    "    return ans\n",
    "\n",
    "print(square(5))"
   ]
  },
  {
   "cell_type": "markdown",
   "metadata": {},
   "source": [
    "> args & kwargs\n",
    "\n",
    "*args = arguments or tuple as a parameter \n",
    "**kwargs = key with arguments or dictionary as a parameter\n",
    "\n",
    "* = tuple\n",
    "** = dictionary"
   ]
  },
  {
   "cell_type": "code",
   "execution_count": 5,
   "metadata": {},
   "outputs": [
    {
     "name": "stdout",
     "output_type": "stream",
     "text": [
      "15\n"
     ]
    }
   ],
   "source": [
    "def sum(num1,num2):\n",
    "    ans = num1 + num2 \n",
    "    print(ans)\n",
    "\n",
    "sum(12,3)"
   ]
  },
  {
   "cell_type": "code",
   "execution_count": 10,
   "metadata": {},
   "outputs": [
    {
     "name": "stdout",
     "output_type": "stream",
     "text": [
      "28\n"
     ]
    }
   ],
   "source": [
    "\"**args\"\n",
    "def addition(*abc):\n",
    "    sum = 0\n",
    "    for i in abc:\n",
    "        sum = sum + i\n",
    "    print(sum)\n",
    "addition(1,4,5,2,6,7,3)"
   ]
  },
  {
   "cell_type": "code",
   "execution_count": 11,
   "metadata": {},
   "outputs": [
    {
     "name": "stdout",
     "output_type": "stream",
     "text": [
      "name = python\n",
      "category = language\n"
     ]
    }
   ],
   "source": [
    "\"**kwargs\"\n",
    "\n",
    "def student(**xyz):\n",
    "    for k,v in xyz.items():\n",
    "        print(f\"{k} = {v}\")\n",
    "\n",
    "student(name=\"python\",category=\"language\")"
   ]
  }
 ],
 "metadata": {
  "interpreter": {
   "hash": "df667f885b32d85fe0ec4dba32479b46b75d7489a1229482fc72753e0a81fc69"
  },
  "kernelspec": {
   "display_name": "Python 3.9.6 64-bit",
   "language": "python",
   "name": "python3"
  },
  "language_info": {
   "codemirror_mode": {
    "name": "ipython",
    "version": 3
   },
   "file_extension": ".py",
   "mimetype": "text/x-python",
   "name": "python",
   "nbconvert_exporter": "python",
   "pygments_lexer": "ipython3",
   "version": "3.9.6"
  },
  "orig_nbformat": 4
 },
 "nbformat": 4,
 "nbformat_minor": 2
}
