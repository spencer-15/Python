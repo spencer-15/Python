{
    "cells": [
        {
            "cell_type": "markdown",
            "metadata": {},
            "source": [
                "## For Loops "
            ]
        },
        {
            "cell_type": "markdown",
            "metadata": {},
            "source": [
                "=> for loops always works on iterables \n",
                "iterables in Py:\n",
                "    1. String   => \"Maulik\"\n",
                "    2. List     => [1,2,3,4,5]\n",
                "    3. Tuple    => (1,2,3,4,5)\n",
                "    4. Set      => {1,2,3,4,5}\n",
                "    5. Dict     => {\"k1\" : \"v1\", \"k2\" : \"v2\"}\n",
                "\n",
                "\n",
                "Syntax:\n",
                "\n",
                "for var in iterable:\n",
                "    do something..."
            ]
        },
        {
            "cell_type": "code",
            "execution_count": 1,
            "metadata": {},
            "outputs": [
                {
                    "name": "stdout",
                    "output_type": "stream",
                    "text": [
                        "M\n",
                        "a\n",
                        "u\n",
                        "l\n",
                        "i\n",
                        "k\n",
                        " \n",
                        "R\n",
                        "a\n",
                        "j\n",
                        "a\n"
                    ]
                }
            ],
            "source": [
                "#print('Name : ', end=\"***************\")\n",
                "for i in \"Maulik Raja\":\n",
                "    print(i)"
            ]
        },
        {
            "cell_type": "code",
            "execution_count": 4,
            "metadata": {},
            "outputs": [
                {
                    "data": {
                        "text/plain": [
                            "\"Welocome to Maulik's classes\""
                        ]
                    },
                    "execution_count": 4,
                    "metadata": {},
                    "output_type": "execute_result"
                }
            ],
            "source": [
                "'Welocome to Maulik\\'s classes'"
            ]
        },
        {
            "cell_type": "code",
            "execution_count": 9,
            "metadata": {},
            "outputs": [],
            "source": [
                "path = \"C:\\\\Users\\\\Admin\\\\Desktop\\\\Maulik_s Classes\\\\TTS Batches\\\\05April\""
            ]
        },
        {
            "cell_type": "code",
            "execution_count": 11,
            "metadata": {},
            "outputs": [
                {
                    "name": "stdout",
                    "output_type": "stream",
                    "text": [
                        "Welocome to \n",
                        "Maulik's classes\n"
                    ]
                }
            ],
            "source": [
                "print('Welocome to \\nMaulik\\'s classes')"
            ]
        },
        {
            "cell_type": "code",
            "execution_count": 12,
            "metadata": {},
            "outputs": [
                {
                    "name": "stdout",
                    "output_type": "stream",
                    "text": [
                        "Welocome to \tMaulik's classes\n"
                    ]
                }
            ],
            "source": [
                "print('Welocome to \\tMaulik\\'s classes')"
            ]
        },
        {
            "cell_type": "code",
            "execution_count": 13,
            "metadata": {},
            "outputs": [
                {
                    "name": "stdout",
                    "output_type": "stream",
                    "text": [
                        "Welocome t Maulik's classes\n"
                    ]
                }
            ],
            "source": [
                "print('Welocome to\\b Maulik\\'s classes')"
            ]
        },
        {
            "cell_type": "code",
            "execution_count": 23,
            "metadata": {},
            "outputs": [
                {
                    "name": "stdout",
                    "output_type": "stream",
                    "text": [
                        "(0, 'M')\n",
                        "(1, 'a')\n",
                        "(2, 'u')\n",
                        "(3, 'l')\n",
                        "(4, 'i')\n",
                        "(5, 'k')\n"
                    ]
                }
            ],
            "source": [
                "for i in enumerate(\"Maulik\"):\n",
                "    print(i)"
            ]
        },
        {
            "cell_type": "code",
            "execution_count": 24,
            "metadata": {},
            "outputs": [
                {
                    "name": "stdout",
                    "output_type": "stream",
                    "text": [
                        "M\n",
                        "a\n",
                        "u\n",
                        "l\n",
                        "i\n",
                        "k\n"
                    ]
                }
            ],
            "source": [
                "for i in \"Maulik\":\n",
                "    print(i)"
            ]
        },
        {
            "cell_type": "code",
            "execution_count": 3,
            "metadata": {},
            "outputs": [
                {
                    "name": "stdout",
                    "output_type": "stream",
                    "text": [
                        "1\n",
                        "3\n",
                        "5\n",
                        "7\n",
                        "9\n"
                    ]
                }
            ],
            "source": [
                "for i in range(1, 12, ):\n",
                "    print(i)"
            ]
        },
        {
            "cell_type": "code",
            "execution_count": 7,
            "metadata": {},
            "outputs": [
                {
                    "data": {
                        "text/plain": [
                            "'\\x02'"
                        ]
                    },
                    "execution_count": 7,
                    "metadata": {},
                    "output_type": "execute_result"
                }
            ],
            "source": [
                "chr(2)"
            ]
        },
        {
            "cell_type": "code",
            "execution_count": 9,
            "metadata": {},
            "outputs": [
                {
                    "name": "stdout",
                    "output_type": "stream",
                    "text": [
                        "A\n",
                        "B\n",
                        "C\n",
                        "D\n",
                        "E\n",
                        "i is 70\n",
                        "G\n",
                        "H\n",
                        "I\n",
                        "J\n",
                        "K\n",
                        "L\n",
                        "M\n",
                        "N\n",
                        "O\n",
                        "P\n",
                        "Q\n",
                        "R\n",
                        "S\n",
                        "T\n",
                        "U\n",
                        "V\n",
                        "W\n",
                        "X\n",
                        "Y\n",
                        "Z\n",
                        "[\n"
                    ]
                }
            ],
            "source": [
                "for i in range(65, 92):\n",
                "    if i == 70:\n",
                "        print(\"i is 70\")\n",
                "    else:\n",
                "        print(chr(i))"
            ]
        },
        {
            "cell_type": "code",
            "execution_count": 40,
            "metadata": {},
            "outputs": [
                {
                    "ename": "TypeError",
                    "evalue": "'int' object is not iterable",
                    "output_type": "error",
                    "traceback": [
                        "\u001b[1;31m---------------------------------------------------------------------------\u001b[0m",
                        "\u001b[1;31mTypeError\u001b[0m                                 Traceback (most recent call last)",
                        "\u001b[1;32m~\\AppData\\Local\\Temp/ipykernel_3868/416810627.py\u001b[0m in \u001b[0;36m<module>\u001b[1;34m\u001b[0m\n\u001b[1;32m----> 1\u001b[1;33m \u001b[1;32mfor\u001b[0m \u001b[0mi\u001b[0m \u001b[1;32min\u001b[0m \u001b[1;36m34\u001b[0m\u001b[1;33m:\u001b[0m\u001b[1;33m\u001b[0m\u001b[1;33m\u001b[0m\u001b[0m\n\u001b[0m\u001b[0;32m      2\u001b[0m     \u001b[0mprint\u001b[0m\u001b[1;33m(\u001b[0m\u001b[0mi\u001b[0m\u001b[1;33m)\u001b[0m\u001b[1;33m\u001b[0m\u001b[1;33m\u001b[0m\u001b[0m\n",
                        "\u001b[1;31mTypeError\u001b[0m: 'int' object is not iterable"
                    ]
                }
            ],
            "source": [
                "for i in 34:\n",
                "    print(i)"
            ]
        },
        {
            "cell_type": "markdown",
            "metadata": {},
            "source": [
                "Range gives us a sequence of numbers. It is mandatiry to specify the end of the range, but the starting point and the stepping points are optional.\n",
                "range(start: optional, stop: mandatory, step: optional) "
            ]
        },
        {
            "cell_type": "code",
            "execution_count": 5,
            "metadata": {},
            "outputs": [
                {
                    "name": "stdout",
                    "output_type": "stream",
                    "text": [
                        "1\n",
                        "4\n",
                        "7\n",
                        "10\n",
                        "13\n",
                        "16\n",
                        "19\n"
                    ]
                }
            ],
            "source": [
                "for i in range(1, 20, 3):\n",
                "    print(i)"
            ]
        },
        {
            "cell_type": "code",
            "execution_count": 13,
            "metadata": {},
            "outputs": [
                {
                    "name": "stdout",
                    "output_type": "stream",
                    "text": [
                        "* * * * * \n",
                        "* * * * * \n",
                        "* * * * * \n"
                    ]
                }
            ],
            "source": [
                "for i in range(3):\n",
                "    for j in range(5):\n",
                "        print(\"*\", end=\" \")\n",
                "    print()"
            ]
        },
        {
            "cell_type": "code",
            "execution_count": 13,
            "metadata": {},
            "outputs": [],
            "source": [
                "a = int(input(\"Please enter a number : \"))\n"
            ]
        },
        {
            "cell_type": "code",
            "execution_count": 17,
            "metadata": {},
            "outputs": [
                {
                    "name": "stdout",
                    "output_type": "stream",
                    "text": [
                        "* \n",
                        "* * \n",
                        "* * * \n",
                        "* * * * \n",
                        "* * * * * \n"
                    ]
                }
            ],
            "source": [
                "for i in range(a):\n",
                "    for j in range(i+1):\n",
                "        print(\"*\", end=\" \")\n",
                "    print()"
            ]
        },
        {
            "cell_type": "markdown",
            "metadata": {},
            "source": [
                "1\n",
                "0 0\n",
                "1 1 1\n",
                "0 0 0 0\n",
                "1 1 1 1 1\n",
                "\n",
                "1\n",
                "1 0\n",
                "1 0 1\n",
                "1 0 1 0\n",
                "1 0 1 0 1"
            ]
        },
        {
            "cell_type": "code",
            "execution_count": 20,
            "metadata": {},
            "outputs": [
                {
                    "name": "stdout",
                    "output_type": "stream",
                    "text": [
                        "0 \n",
                        "1 1 \n",
                        "0 0 0 \n",
                        "1 1 1 1 \n",
                        "0 0 0 0 0 \n"
                    ]
                }
            ],
            "source": [
                "for i in range(5):\n",
                "    for j in range(i+1):\n",
                "        if i % 2:\n",
                "            print(1, end=\" \")\n",
                "        else:\n",
                "            print(0, end=\" \")\n",
                "    print()\n"
            ]
        },
        {
            "cell_type": "code",
            "execution_count": 23,
            "metadata": {},
            "outputs": [
                {
                    "name": "stdout",
                    "output_type": "stream",
                    "text": [
                        "1 \n",
                        "1 0 \n",
                        "1 0 1 \n",
                        "1 0 1 0 \n",
                        "1 0 1 0 1 \n"
                    ]
                }
            ],
            "source": [
                "for i in range(5):\n",
                "    for j in range(i+1):\n",
                "        if j % 2 == 0:\n",
                "            print(1, end=\" \")\n",
                "        else:\n",
                "            print(0, end=\" \")\n",
                "    print()"
            ]
        },
        {
            "cell_type": "code",
            "execution_count": null,
            "metadata": {},
            "outputs": [],
            "source": []
        },
        {
            "cell_type": "markdown",
            "metadata": {},
            "source": [
                "press 1 to add\n",
                "press 2 to sub\n",
                "press 3 to mul\n",
                "press 4 to div\n",
                "\n",
                "3\n",
                "\n",
                "enter num1 :\n",
                "enter num2 :\n",
                "\n",
                "'num1 {expression}  num2 = {answer}'\n",
                "1 + 2 = 3\n",
                "2 - 1 = 1\n",
                "2 * 3 = 6 "
            ]
        }
    ],
    "metadata": {
        "interpreter": {
            "hash": "df667f885b32d85fe0ec4dba32479b46b75d7489a1229482fc72753e0a81fc69"
        },
        "kernelspec": {
            "display_name": "Python 3.9.6 64-bit",
            "language": "python",
            "name": "python3"
        },
        "language_info": {
            "codemirror_mode": {
                "name": "ipython",
                "version": 3
            },
            "file_extension": ".py",
            "mimetype": "text/x-python",
            "name": "python",
            "nbconvert_exporter": "python",
            "pygments_lexer": "ipython3",
            "version": "3.9.6"
        },
        "orig_nbformat": 4
    },
    "nbformat": 4,
    "nbformat_minor": 2
}
