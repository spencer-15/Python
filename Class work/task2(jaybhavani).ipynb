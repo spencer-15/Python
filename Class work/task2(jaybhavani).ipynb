{
 "cells": [
  {
   "cell_type": "code",
   "execution_count": 2,
   "metadata": {},
   "outputs": [
    {
     "name": "stdout",
     "output_type": "stream",
     "text": [
      "-----Menu-----\n",
      "vadapav = 30\n",
      "bhel = 70\n",
      "dabeli = 20\n",
      "Product price is : 70\n",
      "Total price = 210\n",
      "-----Menu-----\n",
      "vadapav = 30\n",
      "bhel = 70\n",
      "dabeli = 20\n",
      "Product price is : 30\n",
      "Total price = 90\n",
      "Total price =  300\n"
     ]
    }
   ],
   "source": [
    "Jayabhavani={\n",
    "    \"vadapav\" : 30,\n",
    "    \"bhel\" : 70,\n",
    "    \"dabeli\" : 20,\n",
    "}\n",
    "\n",
    "mycart= []\n",
    "\n",
    "status = True\n",
    "while status:\n",
    "    print(\"-----Menu-----\")\n",
    "    for k,v in Jayabhavani.items():\n",
    "        print(f\"{k} = {v}\")\n",
    "\n",
    "    product = input(\"Enter product name : \").lower()\n",
    "    if product in Jayabhavani.keys():\n",
    "        price = Jayabhavani[product]\n",
    "        print(f\"Product price is : {price}\")\n",
    "\n",
    "        qty = int(input(\"how many quantity do you want : \"))\n",
    "        total_price = price * qty\n",
    "        mycart.append(total_price)\n",
    "        print(f\"Total price = {total_price}\")\n",
    "\n",
    "    choice = input(\"Do you want to purchase more items : press y for  yes and or press n for no : \").lower()\n",
    "    \n",
    "    if choice == 'y' or choice == 'yes':\n",
    "        status = True\n",
    "    else:\n",
    "        status = False\n",
    "print(\"Total Bill = \",sum(mycart))"
   ]
  }
 ],
 "metadata": {
  "interpreter": {
   "hash": "df667f885b32d85fe0ec4dba32479b46b75d7489a1229482fc72753e0a81fc69"
  },
  "kernelspec": {
   "display_name": "Python 3.9.6 64-bit",
   "language": "python",
   "name": "python3"
  },
  "language_info": {
   "codemirror_mode": {
    "name": "ipython",
    "version": 3
   },
   "file_extension": ".py",
   "mimetype": "text/x-python",
   "name": "python",
   "nbconvert_exporter": "python",
   "pygments_lexer": "ipython3",
   "version": "3.9.6"
  },
  "orig_nbformat": 4
 },
 "nbformat": 4,
 "nbformat_minor": 2
}
