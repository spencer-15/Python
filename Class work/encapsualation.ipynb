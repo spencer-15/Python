{
 "cells": [
  {
   "cell_type": "markdown",
   "metadata": {},
   "source": [
    ">Encapsualation\n",
    "\n",
    "which is dis-similar data elements and member fuction at same location ... which is achieve by class.\n",
    "\n",
    "Modifiers:\n",
    "    private\n",
    "    public\n",
    "    protected\n",
    "\n",
    "if we write __(double underscore) at prefix its define as a private mode(only own class can aceess properties)\n",
    "\n",
    "if we write _(single underscore) at prefix its dfine as a protected mode(only own class and child class can access properties)"
   ]
  },
  {
   "cell_type": "code",
   "execution_count": 2,
   "metadata": {},
   "outputs": [
    {
     "name": "stdout",
     "output_type": "stream",
     "text": [
      "Mobile =  5000\n",
      "Laptop =  45000\n",
      "Mobile =  15000\n",
      "Laptop =  45000\n"
     ]
    }
   ],
   "source": [
    "class Product:\n",
    "    def __init__(self) -> None:\n",
    "        self.mobile = 5000\n",
    "        self.__laptop = 45000 #private\n",
    "\n",
    "    def display(self):\n",
    "        print(\"Mobile = \",self.mobile)\n",
    "        print(\"Laptop = \",self.__laptop)\n",
    "    \n",
    "obj = Product()\n",
    "obj.display()\n",
    "\n",
    "obj.mobile = 15000\n",
    "obj.__laptop = 65000\n",
    "\n",
    "obj.display()"
   ]
  },
  {
   "cell_type": "code",
   "execution_count": 8,
   "metadata": {},
   "outputs": [
    {
     "name": "stdout",
     "output_type": "stream",
     "text": [
      "Deep\n",
      "Python\n",
      "5\n"
     ]
    }
   ],
   "source": [
    "class Student:\n",
    "    def setFirstname(self,firstname):\n",
    "        self.firstname = firstname\n",
    "    \n",
    "    def setSubject(self,subject):\n",
    "        self.subject = subject\n",
    "    \n",
    "    def setRollno(self,rollno):\n",
    "        self.rollno = rollno\n",
    "\n",
    "    def getFirstname(self):\n",
    "        return self.firstname\n",
    "    \n",
    "    def getSubject(self):\n",
    "        return self.subject\n",
    "    \n",
    "    def getRollno(self):\n",
    "        return self.rollno\n",
    "\n",
    "obj = Student()\n",
    "obj.setFirstname(\"Deep\")\n",
    "obj.setSubject(\"Python\")\n",
    "obj.setRollno(5)\n",
    "\n",
    "print(obj.getFirstname())\n",
    "print(obj.getSubject())\n",
    "print(obj.getRollno())"
   ]
  }
 ],
 "metadata": {
  "kernelspec": {
   "display_name": "Python 3.9.6 64-bit",
   "language": "python",
   "name": "python3"
  },
  "language_info": {
   "codemirror_mode": {
    "name": "ipython",
    "version": 3
   },
   "file_extension": ".py",
   "mimetype": "text/x-python",
   "name": "python",
   "nbconvert_exporter": "python",
   "pygments_lexer": "ipython3",
   "version": "3.9.6"
  },
  "orig_nbformat": 4,
  "vscode": {
   "interpreter": {
    "hash": "df667f885b32d85fe0ec4dba32479b46b75d7489a1229482fc72753e0a81fc69"
   }
  }
 },
 "nbformat": 4,
 "nbformat_minor": 2
}
