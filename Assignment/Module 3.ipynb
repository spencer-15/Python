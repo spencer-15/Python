{
 "cells": [
  {
   "cell_type": "markdown",
   "metadata": {},
   "source": [
    "What is List? How will you reverse a list?\n",
    "\n",
    "A list is a data structure in Python that is a mutable, or changeable, ordered sequence of elements.In python lists can be reversed in-place with the list. reverse() method."
   ]
  },
  {
   "cell_type": "markdown",
   "metadata": {},
   "source": [
    "How will you remove last object from a list?\n",
    "\n",
    "list pop() is an inbuilt function in Python that removes and returns the last value from the List or the given index value."
   ]
  },
  {
   "cell_type": "code",
   "execution_count": 1,
   "metadata": {},
   "outputs": [
    {
     "data": {
      "text/plain": [
       "25"
      ]
     },
     "execution_count": 1,
     "metadata": {},
     "output_type": "execute_result"
    }
   ],
   "source": [
    "#Suppose list1 is [2, 33, 222, 14, and 25]\n",
    "\n",
    "lst = [2, 33, 222, 14, 25]\n",
    "\n",
    "#  what is list1 [-1]?\n",
    "\n",
    "lst[-1]"
   ]
  },
  {
   "cell_type": "markdown",
   "metadata": {},
   "source": [
    "Differentiate between append () and extend () methods?\n",
    "\n",
    "append() adds a single element to the end of the list. \n",
    "extend() can add multiple individual elements to the end of the list."
   ]
  },
  {
   "cell_type": "code",
   "execution_count": 2,
   "metadata": {},
   "outputs": [
    {
     "name": "stdout",
     "output_type": "stream",
     "text": [
      "max =  100\n",
      "min =  2\n",
      "sum =  247\n"
     ]
    }
   ],
   "source": [
    "#Write a Python function to get the largest number, smallest num and sum of all from a list.\n",
    "\n",
    "lst1 = [15, 100, 50, 2, 70, 10]\n",
    "\n",
    "print(\"max = \",max(lst1))\n",
    "print(\"min = \",min(lst1))\n",
    "print(\"sum = \",sum(lst1))"
   ]
  },
  {
   "cell_type": "code",
   "execution_count": 3,
   "metadata": {},
   "outputs": [
    {
     "name": "stdout",
     "output_type": "stream",
     "text": [
      "Two lists are different\n"
     ]
    }
   ],
   "source": [
    "#How will you compare two lists?\n",
    "\n",
    "ex1 = [1, 2, 3, 4]\n",
    "ex2 = [4, 5, 6, 7]\n",
    "\n",
    "if ex1==ex2:\n",
    "    print(\"Two lists are equal\")\n",
    "else:\n",
    "    print(\"Two lists are different\")"
   ]
  },
  {
   "cell_type": "code",
   "execution_count": 4,
   "metadata": {},
   "outputs": [
    {
     "name": "stdout",
     "output_type": "stream",
     "text": [
      "Number of string where the first and last character are same: 2\n"
     ]
    }
   ],
   "source": [
    "#Write a Python program to count the number of strings where the string length is 2 or more and the first and last character are same from a given list of strings.\n",
    "\n",
    "words = ['abc', 'xyz', 'aba', '1221']\n",
    "count = 0\n",
    "\n",
    "for word in words:\n",
    "    if len(word) > 1 and word[0] == word[-1]:\n",
    "      count += 1\n",
    "print(f\"Number of string where the first and last character are same: {count}\")"
   ]
  },
  {
   "cell_type": "code",
   "execution_count": 5,
   "metadata": {},
   "outputs": [
    {
     "name": "stdout",
     "output_type": "stream",
     "text": [
      "List Before: [1, 2, 3, 1, 2, 4, 5, 4, 6, 2]\n",
      "List After removing duplicates: [1, 2, 3, 4, 5, 6]\n"
     ]
    }
   ],
   "source": [
    "#Write a Python program to remove duplicates from a list.\n",
    "\n",
    "lst2 = [1, 2, 3, 1, 2, 4, 5, 4 ,6, 2]\n",
    "print(f\"List Before: {lst2}\")\n",
    "temp_list = []\n",
    "\n",
    "for i in lst2:\n",
    "    if i not in temp_list:\n",
    "        temp_list.append(i)\n",
    "\n",
    "lst2 = temp_list\n",
    "\n",
    "print(f\"List After removing duplicates: {lst2}\")"
   ]
  },
  {
   "cell_type": "code",
   "execution_count": 6,
   "metadata": {},
   "outputs": [
    {
     "name": "stdout",
     "output_type": "stream",
     "text": [
      "List is empty\n"
     ]
    }
   ],
   "source": [
    "#Write a Python program to check a list is empty or not.\n",
    "\n",
    "lst3 = []\n",
    "if not lst3:\n",
    "    print(\"List is empty\")\n",
    "else:\n",
    "    print(\"List is not empty\")"
   ]
  },
  {
   "cell_type": "code",
   "execution_count": 7,
   "metadata": {},
   "outputs": [
    {
     "name": "stdout",
     "output_type": "stream",
     "text": [
      "The values in list are not common\n",
      "The values in list are not common\n",
      "The values in list are not common\n",
      "The values in list are not common\n",
      "The values in list are not common\n",
      "The values in list are not common\n",
      "The values in list are not common\n",
      "The values in list are not common\n",
      "The values in list are not common\n",
      "The values in list are not common\n",
      "The values in list are not common\n",
      "The values in list are not common\n",
      "The values in list are not common\n",
      "The values in list are not common\n",
      "The values in list are not common\n",
      "The values in list are not common\n",
      "The values in list are not common\n",
      "The values in list are not common\n",
      "The values in list are not common\n",
      "The values in list are not common\n",
      "The values in list are common\n",
      "The values in list are not common\n",
      "The values in list are not common\n",
      "The values in list are not common\n",
      "The values in list are not common\n"
     ]
    }
   ],
   "source": [
    "#Write a Python function that takes two lists and returns true if they have at least one common member.\n",
    "lst4 = [1,2,3,4,5]\n",
    "lst5 = [5,6,7,8,9]\n",
    "\n",
    "result = True\n",
    "for x in lst4:\n",
    "    for y in lst5:\n",
    "        if x == y:\n",
    "            print(\"The values in list are common\")\n",
    "            result = False\n",
    "        else:\n",
    "            print(\"The values in list are not common\")\n",
    "            result = False"
   ]
  },
  {
   "cell_type": "code",
   "execution_count": 8,
   "metadata": {},
   "outputs": [
    {
     "name": "stdout",
     "output_type": "stream",
     "text": [
      "([1, 4, 9, 16, 25] [625, 676, 729, 784, 841])\n"
     ]
    }
   ],
   "source": [
    "#Write a Python program to generate and print a list of first and last 5 elements where the values are square of numbers between 1 and 30.\n",
    "\n",
    "lst6 = list()\n",
    "for i in range(1,30):\n",
    "\t\tlst6.append(i**2)\n",
    "print(f\"({lst6[:5]} {lst6[-5:]})\")"
   ]
  },
  {
   "cell_type": "code",
   "execution_count": 9,
   "metadata": {},
   "outputs": [
    {
     "name": "stdout",
     "output_type": "stream",
     "text": [
      "Unique list: [1, 2, 3, 4, 5]\n"
     ]
    }
   ],
   "source": [
    "#Write a Python function that takes a list and returns a new list with unique elements of the first list.\n",
    "\n",
    "lst7 = [1,2,2,3,3,3,4,4,5]\n",
    "x = []\n",
    "\n",
    "for a in lst7:\n",
    "    if a not in x:\n",
    "        x.append(a)\n",
    "print(f\"Unique list: {x}\")"
   ]
  },
  {
   "cell_type": "code",
   "execution_count": 10,
   "metadata": {},
   "outputs": [
    {
     "name": "stdout",
     "output_type": "stream",
     "text": [
      "deep vakharia\n"
     ]
    }
   ],
   "source": [
    "#Write a Python program to convert a list of characters into a string.\n",
    "\n",
    "s = ['d', 'e', 'e', 'p',' ', 'v', 'a', 'k', 'h', 'a', 'r', 'i', 'a']\n",
    "str1 = ''.join(s)\n",
    "print(str1)"
   ]
  },
  {
   "cell_type": "code",
   "execution_count": 11,
   "metadata": {},
   "outputs": [
    {
     "name": "stdout",
     "output_type": "stream",
     "text": [
      "Random color: Black\n"
     ]
    }
   ],
   "source": [
    "#Write a Python program to select an item randomly from a list.\n",
    "import random\n",
    "\n",
    "color_list = ['Red', 'Blue', 'Green', 'White', 'Black']\n",
    "print(f\"Random color: {random.choice(color_list)}\")"
   ]
  },
  {
   "cell_type": "code",
   "execution_count": 12,
   "metadata": {},
   "outputs": [
    {
     "name": "stdout",
     "output_type": "stream",
     "text": [
      "The sorted list:  [2, 3, 4, 5, 6]\n",
      "The second smallest value of this list:  3\n"
     ]
    }
   ],
   "source": [
    "#Write a Python program to find the second smallest number in a list\n",
    "\n",
    "lst8 = [] \n",
    "n = int(input(\"Enter the number of elements: \"))\n",
    "for i in range(1, n+1): \n",
    "    elem = int(input(\"Enter the elements: \")) \n",
    "    lst8.append(elem) \n",
    "lst8.sort() \n",
    "\n",
    "print(\"The sorted list: \", lst8) \n",
    "print(\"The second smallest value of this list: \",lst8[1])"
   ]
  },
  {
   "cell_type": "code",
   "execution_count": 13,
   "metadata": {},
   "outputs": [
    {
     "name": "stdout",
     "output_type": "stream",
     "text": [
      "Unique list: [10, 20, 40, 30, 50]\n"
     ]
    }
   ],
   "source": [
    "#Write a Python program to get unique values from a list\n",
    "\n",
    "lst7 = [10,20,10,20,40,30,50]\n",
    "x = []\n",
    "  \n",
    "for a in lst7:\n",
    "    if a not in x:\n",
    "        x.append(a)\n",
    "print(f\"Unique list: {x}\")"
   ]
  },
  {
   "cell_type": "code",
   "execution_count": 14,
   "metadata": {},
   "outputs": [
    {
     "name": "stdout",
     "output_type": "stream",
     "text": [
      "The original list : [5, 6, 3, 8, 2, 1, 7, 1]\n",
      "Is sublist present in list ? : True\n"
     ]
    }
   ],
   "source": [
    "#Write a Python program to check whether a list contains a sub list\n",
    "\n",
    "lst9 = [5, 6, 3, 8, 2, 1, 7, 1]\n",
    "\n",
    "print(\"The original list : \" + str(lst9))\n",
    "sublist = [8, 2, 1]\n",
    " \n",
    "res = False\n",
    "for i in range(len(lst9) - len(sublist) + 1):\n",
    "        if lst9[i : i + len(sublist)] == sublist:\n",
    "            res = True\n",
    "            break\n",
    "print(\"Is sublist present in list ? : \" + str(res))"
   ]
  },
  {
   "cell_type": "code",
   "execution_count": null,
   "metadata": {},
   "outputs": [],
   "source": [
    "#Write a Python program to split a list into different variables."
   ]
  },
  {
   "cell_type": "markdown",
   "metadata": {},
   "source": [
    "What is tuple? Difference between list and tuple.\n",
    "\n",
    "A tuple is a collection which is ordered and unchangeable.\n",
    "\n",
    "> Lists\n",
    "1) Lists are mutable.\n",
    "2) Implication of iterations is Time-consuming\n",
    "3) The list is better for performing operations, such as insertion and deletion.\n",
    "4) Lists consume more memory\n",
    "5) Lists have several built-in methods\n",
    "\n",
    "> Tuple\n",
    "1) Tuples are immutable\n",
    "2) The implication of iterations is comparatively Faster\n",
    "3) Tuple data type is appropriate for accessing the elements\n",
    "4) Tuple consume less memory as compared to the list\n",
    "5) Tuple does not have many built-in methods."
   ]
  },
  {
   "cell_type": "code",
   "execution_count": 1,
   "metadata": {},
   "outputs": [
    {
     "name": "stdout",
     "output_type": "stream",
     "text": [
      "('Deep', False, 3.2, 1)\n"
     ]
    }
   ],
   "source": [
    "#Write a Python program to create a tuple with different data types.\n",
    "\n",
    "tp1 = (\"Deep\", False, 3.2, 1)\n",
    "print(tp1)"
   ]
  },
  {
   "cell_type": "code",
   "execution_count": 2,
   "metadata": {},
   "outputs": [
    {
     "name": "stdout",
     "output_type": "stream",
     "text": [
      "(1, 2, 3, 4, 5)\n"
     ]
    }
   ],
   "source": [
    "#Write a Python program to create a tuple with numbers.\n",
    "\n",
    "tp2 = (1,2,3,4,5)\n",
    "print(tp2)"
   ]
  },
  {
   "cell_type": "code",
   "execution_count": 3,
   "metadata": {},
   "outputs": [
    {
     "name": "stdout",
     "output_type": "stream",
     "text": [
      "Deep\n"
     ]
    }
   ],
   "source": [
    "#Write a Python program to convert a tuple to a string.\n",
    "\n",
    "tp3 = (\"D\",\"e\",\"e\",\"p\")\n",
    "str = ''.join(tp3)\n",
    "print(str)"
   ]
  },
  {
   "cell_type": "code",
   "execution_count": 6,
   "metadata": {},
   "outputs": [
    {
     "name": "stdout",
     "output_type": "stream",
     "text": [
      "True\n",
      "False\n"
     ]
    }
   ],
   "source": [
    "#Write a Python program to check whether an element exists within a tuple.\n",
    "\n",
    "tp4 = (\"D\",\"e\",\"e\",\"p\",5)\n",
    "print(\"e\" in tp4)\n",
    "print(3 in tp4)"
   ]
  },
  {
   "cell_type": "code",
   "execution_count": 7,
   "metadata": {},
   "outputs": [
    {
     "name": "stdout",
     "output_type": "stream",
     "text": [
      "12\n"
     ]
    }
   ],
   "source": [
    "#Write a Python program to find the length of a tuple.\n",
    "\n",
    "tp5 = (\"D\",\"e\",\"e\",\"p\",\"V\",\"a\",\"k\",\"h\",\"a\",\"r\",\"i\",\"a\")\n",
    "print(len(tp5))"
   ]
  },
  {
   "cell_type": "code",
   "execution_count": 9,
   "metadata": {},
   "outputs": [
    {
     "name": "stdout",
     "output_type": "stream",
     "text": [
      "list ['D', 'e', 'e', 'p']\n",
      "Convert list to tuple {'e', 'D', 'p'}\n"
     ]
    }
   ],
   "source": [
    "#Write a Python program to convert a list to a tuple.\n",
    "\n",
    "lst11 = [\"D\",\"e\",\"e\",\"p\"]\n",
    "print(f\"list: {lst11}\")\n",
    "\n",
    "tp6 = set(lst11)\n",
    "print(f\"Convert list to tuple : {tp6}\")"
   ]
  },
  {
   "cell_type": "code",
   "execution_count": null,
   "metadata": {},
   "outputs": [],
   "source": [
    "#Write a Python program to reverse a tuple."
   ]
  }
 ],
 "metadata": {
  "interpreter": {
   "hash": "df667f885b32d85fe0ec4dba32479b46b75d7489a1229482fc72753e0a81fc69"
  },
  "kernelspec": {
   "display_name": "Python 3.9.6 64-bit",
   "language": "python",
   "name": "python3"
  },
  "language_info": {
   "codemirror_mode": {
    "name": "ipython",
    "version": 3
   },
   "file_extension": ".py",
   "mimetype": "text/x-python",
   "name": "python",
   "nbconvert_exporter": "python",
   "pygments_lexer": "ipython3",
   "version": "3.9.6"
  },
  "orig_nbformat": 4
 },
 "nbformat": 4,
 "nbformat_minor": 2
}
