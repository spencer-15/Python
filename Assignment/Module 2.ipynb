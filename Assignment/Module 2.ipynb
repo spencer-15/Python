{
 "cells": [
  {
   "cell_type": "code",
   "execution_count": 5,
   "metadata": {},
   "outputs": [
    {
     "name": "stdout",
     "output_type": "stream",
     "text": [
      "0 is zero\n"
     ]
    }
   ],
   "source": [
    "#Write a Python program to check if a number is positive, negative or zero.\n",
    "\n",
    "i = int(input(\"Enter the number to check whether the number is positive or negative : \"))\n",
    "\n",
    "if i > 0:\n",
    "    print(f\"{i} is positive number\")\n",
    "elif i < 0:\n",
    "    print(f\"{i} is negative number\")\n",
    "else:\n",
    "    print(f\"{i} is zero\")"
   ]
  },
  {
   "cell_type": "code",
   "execution_count": 10,
   "metadata": {},
   "outputs": [
    {
     "name": "stdout",
     "output_type": "stream",
     "text": [
      "Factorial of 5 is: 120\n"
     ]
    }
   ],
   "source": [
    "#Write a Python program to get the Factorial number of given number.\n",
    "\n",
    "num = int(input(\"Enter a number to find out the factorial : \"))    \n",
    "factorial = 1    \n",
    "if num < 0:    \n",
    "   print(\" Factorial does not exist for negative numbers\")    \n",
    "elif num == 0:    \n",
    "   print(\"The factorial of 0 is 1\")    \n",
    "else:    \n",
    "   for i in range(1,num + 1):    \n",
    "       factorial = factorial*i\n",
    "\n",
    "print(f\"Factorial of {num} is: {factorial}\")"
   ]
  },
  {
   "cell_type": "code",
   "execution_count": 11,
   "metadata": {},
   "outputs": [
    {
     "name": "stdout",
     "output_type": "stream",
     "text": [
      "The fibonacci sequence of the numbers is:\n",
      "0\n",
      "1\n",
      "1\n",
      "2\n",
      "3\n"
     ]
    }
   ],
   "source": [
    "#Write a Python program to get the Fibonacci series of given range.\n",
    "\n",
    "n = int(input (\"How many terms the user wants to print? \"))  \n",
    "\n",
    "no1 = 0  \n",
    "no2 = 1  \n",
    "count = 0  \n",
    "  \n",
    "  \n",
    "if n <= 0:  \n",
    "    print (\"Please enter a positive integer, the given number is not valid\")   \n",
    "elif n == 1:  \n",
    "    print (\"The Fibonacci sequence of the numbers up to\", n, \": \")  \n",
    "    print(no1)    \n",
    "else:  \n",
    "    print (\"The fibonacci sequence of the numbers is:\")  \n",
    "    while count < n:  \n",
    "        print(f\"{no1}\")  \n",
    "        nth = no1 + no2     \n",
    "        no1 = no2  \n",
    "        no2 = nth  \n",
    "        count += 1  "
   ]
  },
  {
   "cell_type": "markdown",
   "metadata": {},
   "source": [
    "How memory is managed in Python?\n",
    "\n",
    "Python uses the dynamic memory allocation which is managed by the Heap data structure"
   ]
  },
  {
   "cell_type": "markdown",
   "metadata": {},
   "source": [
    "What is the purpose continue statement in python?\n",
    "\n",
    "The continue statement gives you the option to skip over the part of a loop where an external condition is triggered, but to go on to complete the rest of the loop."
   ]
  },
  {
   "cell_type": "code",
   "execution_count": 13,
   "metadata": {},
   "outputs": [
    {
     "name": "stdout",
     "output_type": "stream",
     "text": [
      "Number before swap first number 2 and second number 3\n",
      "Number after swap first number 3 and second number 2\n",
      "Number before swap first number 5 and second number 6\n",
      "Number after swap first number 6 and second number 5\n"
     ]
    }
   ],
   "source": [
    "#Write python program that swap two number with temp variable and without temp variable.\n",
    "\n",
    "a = int(input(\"Enter first number: \"))\n",
    "b = int(input(\"Enter second number: \"))\n",
    "tmp=0\n",
    "\n",
    "print(f\"Number before swap first number {a} and second number {b}\")\n",
    "\n",
    "tmp = a\n",
    "a = b\n",
    "b = tmp\n",
    "\n",
    "print(f\"Number after swap first number {a} and second number {b}\")\n",
    "\n",
    "#Without temp\n",
    "\n",
    "x = int(input(\"Enter first number: \"))\n",
    "y = int(input(\"Enter second number: \"))\n",
    "\n",
    "print(f\"Number before swap first number {x} and second number {y}\")\n",
    "\n",
    "x = x + y\n",
    "y = x - y\n",
    "x = x - y\n",
    "\n",
    "print(f\"Number after swap first number {x} and second number {y}\")"
   ]
  },
  {
   "cell_type": "code",
   "execution_count": 2,
   "metadata": {},
   "outputs": [
    {
     "name": "stdout",
     "output_type": "stream",
     "text": [
      "3 is an odd number\n"
     ]
    }
   ],
   "source": [
    "#Write a Python program to find whether a given number is even or odd, print out an appropriate message to the user.\n",
    "\n",
    "j = int(input(\"Enter the number to check whther number is odd or even\"))\n",
    "\n",
    "if j % 2 == 0:\n",
    "    print(f\"{j} is an even number\")\n",
    "else:\n",
    "    print(f\"{j} is an odd number\")"
   ]
  },
  {
   "cell_type": "code",
   "execution_count": 9,
   "metadata": {},
   "outputs": [
    {
     "name": "stdout",
     "output_type": "stream",
     "text": [
      "i is a vowel\n"
     ]
    }
   ],
   "source": [
    "#Write a Python program to test whether a passed letter is a vowel or not.\n",
    "\n",
    "ch = input(\"Enter the character to check whether character is vowel or not \")\n",
    "\n",
    "if ch == \"a\" or ch == \"e\" or ch == \"i\" or  ch == \"o\" or ch == \"u\":\n",
    "    print(f\"{ch} is a vowel\")\n",
    "else:\n",
    "    print(f\"{ch} is a constant\")"
   ]
  },
  {
   "cell_type": "code",
   "execution_count": 1,
   "metadata": {},
   "outputs": [
    {
     "name": "stdout",
     "output_type": "stream",
     "text": [
      "because two number are same so sum will 0\n"
     ]
    }
   ],
   "source": [
    "#Write a Python program to sum of three given integers. However, if two values are equal sum will be zero.\n",
    "\n",
    "x = int(input(\"Enter the first number\"))\n",
    "y = int(input(\"Enter the second number\"))\n",
    "z = int(input(\"Enter the third number\"))\n",
    "status = True\n",
    "\n",
    "while status:\n",
    "    if x == y or y == z or x==z:\n",
    "        sum = 0\n",
    "        print(\"because two number are same so sum will 0\")\n",
    "        status = False \n",
    "    else:\n",
    "        sum = x + y + z\n",
    "        print(f\"sum of three {x} and {y} and {z} is {sum}\")\n",
    "        status = False"
   ]
  },
  {
   "cell_type": "code",
   "execution_count": 3,
   "metadata": {},
   "outputs": [
    {
     "name": "stdout",
     "output_type": "stream",
     "text": [
      "True\n"
     ]
    }
   ],
   "source": [
    "#Write a Python program that will return true if the two given integer values are equal or their sum or difference is 5.\n",
    "\n",
    "p = int(input(\"Enter the first number\"))\n",
    "q = int(input(\"Enter the second number\"))\n",
    "\n",
    "if p == q or p + q == 5 or p - q  == 5:\n",
    "        print(\"True\")\n",
    "else:\n",
    "        print(\"False\")"
   ]
  },
  {
   "cell_type": "code",
   "execution_count": 2,
   "metadata": {},
   "outputs": [
    {
     "name": "stdout",
     "output_type": "stream",
     "text": [
      "Sum of the first 10 positive number is : 55.0\n"
     ]
    }
   ],
   "source": [
    "#Write a python program to sum of the first n positive integers.\n",
    "\n",
    "n = int(input(\"Enter the number to sum of it: \"))\n",
    "\n",
    "total = (n * (n + 1)) / 2\n",
    "\n",
    "print(f\"Sum of the first {n} positive number is : {total}\")"
   ]
  },
  {
   "cell_type": "code",
   "execution_count": 3,
   "metadata": {},
   "outputs": [
    {
     "name": "stdout",
     "output_type": "stream",
     "text": [
      "Length of  the string is: 4\n"
     ]
    }
   ],
   "source": [
    "#Write a Python program to calculate the length of a string. \n",
    "\n",
    "str = input(\"Enter the string to find the length of the string: \")\n",
    "count = 0\n",
    "\n",
    "for s in str:\n",
    "    count = count + 1\n",
    "    \n",
    "print(f\"Length of  the string is: {count}\")"
   ]
  },
  {
   "cell_type": "code",
   "execution_count": 2,
   "metadata": {},
   "outputs": [
    {
     "name": "stdout",
     "output_type": "stream",
     "text": [
      "\n",
      "Total Characters = 4\n"
     ]
    }
   ],
   "source": [
    "#Write a Python program to count the number of characters (character frequency) in a string\n",
    "\n",
    "text = input(\"Enter the String: \")\n",
    "textLen = len(text)\n",
    "sum = 0\n",
    "for i in range(textLen):\n",
    "    sum = sum + 1\n",
    "\n",
    "print(f\"\\nTotal Characters = {sum}\")"
   ]
  },
  {
   "cell_type": "markdown",
   "metadata": {},
   "source": [
    "What are negative indexes and why are they used?\n",
    "\n",
    "It means that the index value of -1 gives the last element, and -2 gives the second last element of an array. The negative indexing starts from where the array ends.\n"
   ]
  },
  {
   "cell_type": "code",
   "execution_count": 1,
   "metadata": {},
   "outputs": [
    {
     "name": "stdout",
     "output_type": "stream",
     "text": [
      "Number of occurrences of substring: 2\n"
     ]
    }
   ],
   "source": [
    "#Write a Python program to count occurrences of a substring in a string.\n",
    "\n",
    "str = input(\"Enter the string: \")\n",
    "substr = input(\"Enter the word to find how many its occur: \") \n",
    "\n",
    "count = str.count(substr)\n",
    " \n",
    "print(f\"Number of occurrences of substring: {count}\")"
   ]
  },
  {
   "cell_type": "code",
   "execution_count": 11,
   "metadata": {},
   "outputs": [
    {
     "name": "stdout",
     "output_type": "stream",
     "text": [
      "Number of occurrences found in the string: 2\n"
     ]
    }
   ],
   "source": [
    "#Write a Python program to count the occurrences of each word in a given sentence\n",
    "\n",
    "str = input(\"Enter the string: \")\n",
    "word = input(\"Enter the word to find how many it occurs\")\n",
    "lst=[]\n",
    "count=0\n",
    "lst=str.split(\" \")\n",
    "for i in range(0,len(lst)):\n",
    "      if(word == lst[i]):\n",
    "            count = count + 1\n",
    "print(f\"Number of occurrences found in the string: {count}\")\n"
   ]
  },
  {
   "cell_type": "code",
   "execution_count": 4,
   "metadata": {},
   "outputs": [
    {
     "name": "stdout",
     "output_type": "stream",
     "text": [
      "horld wello\n"
     ]
    }
   ],
   "source": [
    "#Write a Python program to get a single string from two given strings, separated by a space and swap the first two characters of each string.\n",
    "\n",
    "str2 = input(\"Enter one string\")\n",
    "str3 = input(\"Enter second string\")\n",
    "\n",
    "new_str2 = str2[:1] + str3[1:]\n",
    "new_str3 = str3[:1] + str2[1:]\n",
    "\n",
    "print(f\"{new_str2} {new_str3}\")\n"
   ]
  },
  {
   "cell_type": "code",
   "execution_count": 5,
   "metadata": {},
   "outputs": [
    {
     "name": "stdout",
     "output_type": "stream",
     "text": [
      "standly\n"
     ]
    }
   ],
   "source": [
    "#Write a Python program to add 'ing' at the end of a given string (length should be at least 3). \n",
    "#If the given string already ends with 'ing' then add 'ly' instead if the string length of the given string is less than 3, leave it unchanged.\n",
    "\n",
    "str = input(\"Enter the String :\")\n",
    "\n",
    "if len(str) >= 3:\n",
    "    if str.endswith('ing'):\n",
    "        print(f\"{str.removesuffix('ing')}ly\")\n",
    "    elif str is not str.endswith('ing'):\n",
    "        print(f\"{a}ing\")\n",
    "    else:\n",
    "        print(f\"{str}\")\n",
    "else:\n",
    "    print(f\"{str}\")\n",
    "    "
   ]
  },
  {
   "cell_type": "code",
   "execution_count": 7,
   "metadata": {},
   "outputs": [
    {
     "name": "stdout",
     "output_type": "stream",
     "text": [
      "Previous String : i am poor guy \n"
     ]
    },
    {
     "data": {
      "text/plain": [
       "'i am good guy'"
      ]
     },
     "execution_count": 7,
     "metadata": {},
     "output_type": "execute_result"
    }
   ],
   "source": [
    "#Write a Python program to find the first appearance of the substring 'not' and 'poor' from a given string, \n",
    "#if 'not' follows the 'poor', replace the whole 'not'...'poor' substring with 'good'. Return the resulting string.\n",
    "\n",
    "str4 = input(\"Enter the string:\")\n",
    "lst10 = str4.split(' ')\n",
    "\n",
    "print(f\"Previous String : {str4} \")\n",
    "for i in lst10:\n",
    "    if i == 'not' or i == 'poor':\n",
    "        lst10[lst10.index(i)] = 'good'\n",
    "' '.join(lst10)\n"
   ]
  },
  {
   "cell_type": "code",
   "execution_count": 9,
   "metadata": {},
   "outputs": [
    {
     "name": "stdout",
     "output_type": "stream",
     "text": [
      "The longest Substring int the given string (hello world hello everyone) is (everyone) of which size of sub string is: 8\n"
     ]
    }
   ],
   "source": [
    "#Write a Python function that takes a list of words and returns the length of the longest one.\n",
    "\n",
    "str5 = input(\"Enter the string:\")\n",
    "lst11= str5.split(' ')\n",
    "temp = 0\n",
    "\n",
    "for i in lst11:\n",
    "    if temp < len(i):\n",
    "        temp = len(i)\n",
    "        str6 = lst11.index(i)\n",
    "print(f\"The longest substring in the given string ({str5}) is ({lst11[str6]}) of which size of sub string is: {temp}\")"
   ]
  },
  {
   "cell_type": "code",
   "execution_count": 25,
   "metadata": {},
   "outputs": [
    {
     "name": "stdout",
     "output_type": "stream",
     "text": [
      "Reverse string: peed\n"
     ]
    }
   ],
   "source": [
    "#Write a Python function to reverses a string if its length is a multiple of 4.\n",
    "\n",
    "name=input(\"enter a name:\")\n",
    "\n",
    "if(len(name) % 4 == 0):\n",
    "    print(f\"Reverse string: {name[::-1]}\")\n",
    "else:\n",
    "    print(\"Reverse can't be possible because string is less than 4\")"
   ]
  },
  {
   "cell_type": "code",
   "execution_count": 1,
   "metadata": {},
   "outputs": [
    {
     "name": "stdout",
     "output_type": "stream",
     "text": [
      "myep\n"
     ]
    }
   ],
   "source": [
    "#Write a Python program to get a string made of the first 2 and the last 2 chars from a given a string. If the string length is less than 2, return instead of the empty string.\n",
    "# Sample String: w3resource'\n",
    "# Expected Result: 'w3ce'\n",
    "# Sample String: 'w3'\n",
    "# Expected Result: 'w3w3'\n",
    "# Sample String: ' w'\n",
    "# Expected Result: Empty String\n",
    "\n",
    "str7 = input(\"Enter the string: \")\n",
    "str8 = str7[-1:-3:-1]\n",
    "if len(str7)>1:\n",
    "    print(f\"{str7[0:2]}{str8[::-1]}\")\n",
    "else:\n",
    "    print(\"Empty String\")\n",
    "\n"
   ]
  },
  {
   "cell_type": "code",
   "execution_count": 1,
   "metadata": {},
   "outputs": [
    {
     "name": "stdout",
     "output_type": "stream",
     "text": [
      "Andr\n",
      "Whole string :AndroidJavapythonAndroid\n"
     ]
    }
   ],
   "source": [
    "#Write a Python function to insert a string in the middle of a string.\n",
    "\n",
    "str = input(\"Enter the string:\")\n",
    "str1 = input (\"Enter the another string to add betwwen the string\")\n",
    "\n",
    "s =len(str)/ 2\n",
    "ans = str + s + str\n",
    "\n",
    "print(f\"Whole string :{ans}\")"
   ]
  }
 ],
 "metadata": {
  "interpreter": {
   "hash": "df667f885b32d85fe0ec4dba32479b46b75d7489a1229482fc72753e0a81fc69"
  },
  "kernelspec": {
   "display_name": "Python 3.9.6 64-bit",
   "language": "python",
   "name": "python3"
  },
  "language_info": {
   "codemirror_mode": {
    "name": "ipython",
    "version": 3
   },
   "file_extension": ".py",
   "mimetype": "text/x-python",
   "name": "python",
   "nbconvert_exporter": "python",
   "pygments_lexer": "ipython3",
   "version": "3.9.6"
  },
  "orig_nbformat": 4
 },
 "nbformat": 4,
 "nbformat_minor": 2
}
